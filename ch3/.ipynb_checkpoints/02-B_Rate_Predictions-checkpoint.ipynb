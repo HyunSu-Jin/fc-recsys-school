{
 "cells": [
  {
   "cell_type": "code",
   "execution_count": 2,
   "metadata": {
    "collapsed": false
   },
   "outputs": [],
   "source": [
    "# coding: utf-8\n",
    "\n",
    "import pandas as pd\n",
    "import numpy as np\n",
    "from matplotlib import rcParams\n",
    "import matplotlib.pyplot as plt\n",
    "from collections import defaultdict\n",
    "from datetime import datetime\n",
    "import matplotlib.patches as mpatches\n",
    "import matplotlib\n",
    "import time\n",
    "%matplotlib inline  \n",
    "\n",
    "rcParams['font.family'] = 'NanumGothic'\n",
    "rcParams.update({'font.size': 12})\n",
    "matplotlib.style.use('ggplot')\n",
    "pd.options.display.max_rows=14\n"
   ]
  },
  {
   "cell_type": "markdown",
   "metadata": {},
   "source": [
    "## 무비 렌즈 데이터로 별점을 예측해 보자 \n",
    "* User Based 별점 예측 \n",
    "* Item(Movie) Based 별점 예측"
   ]
  },
  {
   "cell_type": "markdown",
   "metadata": {},
   "source": [
    "Movie Lens 데이터 로드 \n",
    "http://grouplens.org/datasets/movielens/"
   ]
  },
  {
   "cell_type": "code",
   "execution_count": 3,
   "metadata": {
    "collapsed": false
   },
   "outputs": [],
   "source": [
    "def movieLensDataLoad(type):\n",
    "    ## user 영화 별점 data \n",
    "    ratings = pd.read_csv(\"/Users/goodvc/Documents/data-analytics/movie-recommendation/\"+type+\"/ratings.csv\")\n",
    "\n",
    "    ## movie meta(타이트,장르) data \n",
    "    movies = pd.read_csv(\"/Users/goodvc/Documents/data-analytics/movie-recommendation/\"+type+\"/movies.csv\")\n",
    "\n",
    "    ## user가 영화에 tag를 기입한 data\n",
    "    tags = pd.read_csv(\"/Users/goodvc/Documents/data-analytics/movie-recommendation/\"+type+\"/tags.csv\")\n",
    "    # tags = pd.read_csv(\"/Users/goodvc/Documents/data-analytics/movie-recommendation/ml-20m/tags.csv\")\n",
    "    return ( ratings, movies, tags )\n",
    "\n",
    "#ratings, movies, tags = movieLensDataLoad('ml-20m')\n",
    "ratings, movies, tags = movieLensDataLoad('ml-latest-small')"
   ]
  },
  {
   "cell_type": "code",
   "execution_count": 4,
   "metadata": {
    "collapsed": false
   },
   "outputs": [
    {
     "data": {
      "text/html": [
       "<div style=\"max-height:1000px;max-width:1500px;overflow:auto;\">\n",
       "<table border=\"1\" class=\"dataframe\">\n",
       "  <thead>\n",
       "    <tr style=\"text-align: right;\">\n",
       "      <th></th>\n",
       "      <th>userId</th>\n",
       "      <th>movieId</th>\n",
       "      <th>rating</th>\n",
       "      <th>timestamp</th>\n",
       "    </tr>\n",
       "  </thead>\n",
       "  <tbody>\n",
       "    <tr>\n",
       "      <th>0</th>\n",
       "      <td> 1</td>\n",
       "      <td>  6</td>\n",
       "      <td> 2</td>\n",
       "      <td> 980730861</td>\n",
       "    </tr>\n",
       "    <tr>\n",
       "      <th>1</th>\n",
       "      <td> 1</td>\n",
       "      <td> 22</td>\n",
       "      <td> 3</td>\n",
       "      <td> 980731380</td>\n",
       "    </tr>\n",
       "  </tbody>\n",
       "</table>\n",
       "</div>"
      ],
      "text/plain": [
       "   userId  movieId  rating  timestamp\n",
       "0       1        6       2  980730861\n",
       "1       1       22       3  980731380"
      ]
     },
     "execution_count": 4,
     "metadata": {},
     "output_type": "execute_result"
    }
   ],
   "source": [
    "#ratings = pd.read_csv(\"movieLens/ml-latest-small/ratings.csv\")\n",
    "ratings.head(2)"
   ]
  },
  {
   "cell_type": "code",
   "execution_count": 5,
   "metadata": {
    "collapsed": false
   },
   "outputs": [
    {
     "data": {
      "text/html": [
       "<div style=\"max-height:1000px;max-width:1500px;overflow:auto;\">\n",
       "<table border=\"1\" class=\"dataframe\">\n",
       "  <thead>\n",
       "    <tr style=\"text-align: right;\">\n",
       "      <th></th>\n",
       "      <th>movieId</th>\n",
       "      <th>title</th>\n",
       "      <th>genres</th>\n",
       "    </tr>\n",
       "  </thead>\n",
       "  <tbody>\n",
       "    <tr>\n",
       "      <th>0</th>\n",
       "      <td> 1</td>\n",
       "      <td> Toy Story (1995)</td>\n",
       "      <td> Adventure|Animation|Children|Comedy|Fantasy</td>\n",
       "    </tr>\n",
       "    <tr>\n",
       "      <th>1</th>\n",
       "      <td> 2</td>\n",
       "      <td>   Jumanji (1995)</td>\n",
       "      <td>                  Adventure|Children|Fantasy</td>\n",
       "    </tr>\n",
       "  </tbody>\n",
       "</table>\n",
       "</div>"
      ],
      "text/plain": [
       "   movieId             title                                       genres\n",
       "0        1  Toy Story (1995)  Adventure|Animation|Children|Comedy|Fantasy\n",
       "1        2    Jumanji (1995)                   Adventure|Children|Fantasy"
      ]
     },
     "execution_count": 5,
     "metadata": {},
     "output_type": "execute_result"
    }
   ],
   "source": [
    "movies.head(2)"
   ]
  },
  {
   "cell_type": "code",
   "execution_count": 6,
   "metadata": {
    "collapsed": false
   },
   "outputs": [
    {
     "data": {
      "text/html": [
       "<div style=\"max-height:1000px;max-width:1500px;overflow:auto;\">\n",
       "<table border=\"1\" class=\"dataframe\">\n",
       "  <thead>\n",
       "    <tr style=\"text-align: right;\">\n",
       "      <th></th>\n",
       "      <th>userId</th>\n",
       "      <th>movieId</th>\n",
       "      <th>tag</th>\n",
       "      <th>timestamp</th>\n",
       "    </tr>\n",
       "  </thead>\n",
       "  <tbody>\n",
       "    <tr>\n",
       "      <th>0</th>\n",
       "      <td> 40</td>\n",
       "      <td> 1</td>\n",
       "      <td> animation</td>\n",
       "      <td> 1306926135</td>\n",
       "    </tr>\n",
       "    <tr>\n",
       "      <th>1</th>\n",
       "      <td> 40</td>\n",
       "      <td> 1</td>\n",
       "      <td>   fantasy</td>\n",
       "      <td> 1306926130</td>\n",
       "    </tr>\n",
       "  </tbody>\n",
       "</table>\n",
       "</div>"
      ],
      "text/plain": [
       "   userId  movieId        tag   timestamp\n",
       "0      40        1  animation  1306926135\n",
       "1      40        1    fantasy  1306926130"
      ]
     },
     "execution_count": 6,
     "metadata": {},
     "output_type": "execute_result"
    }
   ],
   "source": [
    "tags.head(2)"
   ]
  },
  {
   "cell_type": "markdown",
   "metadata": {},
   "source": [
    "### User Based 별점 예측 \n",
    "\n",
    "U(User) \n",
    "M(Movie)\n",
    "\n",
    "1. U X M vector Matrix를 만든다. \n",
    " key가 userid, value가 { 'movieId':rating } \n",
    "2. 나와 비슷한 유저를 찾는다. "
   ]
  },
  {
   "cell_type": "code",
   "execution_count": 7,
   "metadata": {
    "collapsed": false
   },
   "outputs": [
    {
     "name": "stdout",
     "output_type": "stream",
     "text": [
      "('before filtering ', 6037712)\n"
     ]
    }
   ],
   "source": [
    "## 1. U X M vector Matrix를 만든다. \n",
    "UM_matrix_ds = ratings.pivot(index='userId', columns='movieId', values='rating')\n",
    "print('before filtering ', UM_matrix_ds.values.size)"
   ]
  },
  {
   "cell_type": "code",
   "execution_count": 8,
   "metadata": {
    "collapsed": false
   },
   "outputs": [],
   "source": [
    "## filtering movies\n",
    "## 5개 이하 \n",
    "movie_rating_count = ratings.groupby(['movieId'])['rating'].count()\n",
    "except_list = movie_rating_count[movie_rating_count<5].index\n",
    "filtered_ratings = ratings[(~ratings['movieId'].isin(except_list))]"
   ]
  },
  {
   "cell_type": "code",
   "execution_count": 9,
   "metadata": {
    "collapsed": false
   },
   "outputs": [
    {
     "name": "stdout",
     "output_type": "stream",
     "text": [
      "('after filtering ', 2338978)\n"
     ]
    }
   ],
   "source": [
    "## 1. U X M vector Matrix를 만든다. \n",
    "UM_matrix_ds = filtered_ratings.pivot(index='userId', columns='movieId', values='rating')\n",
    "print('after filtering ', UM_matrix_ds.values.size)"
   ]
  },
  {
   "cell_type": "code",
   "execution_count": 10,
   "metadata": {
    "collapsed": false
   },
   "outputs": [
    {
     "data": {
      "text/plain": [
       "2338978"
      ]
     },
     "execution_count": 10,
     "metadata": {},
     "output_type": "execute_result"
    }
   ],
   "source": [
    "UM_matrix_ds.values.size"
   ]
  },
  {
   "cell_type": "code",
   "execution_count": 11,
   "metadata": {
    "collapsed": true
   },
   "outputs": [],
   "source": [
    "## 그럼 이제 최근접 이웃을 찾차 보자\n",
    "## \n",
    "import math\n",
    "from operator import itemgetter\n",
    "from scipy.spatial import distance\n",
    "\n",
    "def distance_cosine(a,b):\n",
    "    return 1-distance.cosine(a,b)\n",
    "\n",
    "def disance_corr(a,b):\n",
    "    return 1-distance.correlation (a,b)\n",
    "\n",
    "def distance_euclidean(a,b):\n",
    "    return 1/(distance.euclidean(a,b)+1)"
   ]
  },
  {
   "cell_type": "markdown",
   "metadata": {},
   "source": [
    "## None-Clustered"
   ]
  },
  {
   "cell_type": "code",
   "execution_count": 12,
   "metadata": {
    "collapsed": false
   },
   "outputs": [],
   "source": [
    "def nearest_neighbor_user( user, topN, simFunc ) :  \n",
    "    u1 = UM_matrix_ds.loc[user].dropna()\n",
    "    ratedIndex = u1.index\n",
    "    nn = {}\n",
    "    \n",
    "    ## Brote Force Compute\n",
    "    for uid, row in UM_matrix_ds.iterrows():\n",
    "        interSectionU1 = []\n",
    "        interSectionU2 = []\n",
    "        if uid==user:\n",
    "            continue\n",
    "        for i in ratedIndex:\n",
    "            if False==math.isnan(row[i]):\n",
    "                interSectionU1.append(u1[i])\n",
    "                interSectionU2.append(row[i])\n",
    "        interSectionLen = len(interSectionU1)\n",
    "        \n",
    "       \n",
    "    ## At least 3 intersection items\n",
    "        if interSectionLen < 3 :\n",
    "            continue\n",
    "            \n",
    "        ## similarity functon\n",
    "        sim = simFunc(interSectionU1,interSectionU2)\n",
    "        \n",
    "        if  math.isnan(sim) == False:\n",
    "            nn[uid] = sim\n",
    "            \n",
    "    ## top N returned         \n",
    "    return sorted(nn.items(),key=itemgetter(1))[:-(topN+1):-1]"
   ]
  },
  {
   "cell_type": "markdown",
   "metadata": {},
   "source": [
    "### Pre-Clustered"
   ]
  },
  {
   "cell_type": "code",
   "execution_count": 13,
   "metadata": {
    "collapsed": false
   },
   "outputs": [],
   "source": [
    "def graph_cut( ds, threshold=3 ):\n",
    "    grouped = ds.groupby('movieId')\n",
    "    userlink = defaultdict(int)\n",
    "    for name, g in grouped:\n",
    "        users = g['userId'].values\n",
    "        cnt = users.size\n",
    "        if cnt<2:\n",
    "            continue\n",
    "\n",
    "        for n in range(0,cnt):\n",
    "            for m in range(n+1,cnt):\n",
    "                key = \"{0}:{1}\" if users[n]<users[m] else \"{1}:{0}\"\n",
    "                key = key.format(users[n], users[m])\n",
    "                userlink[key] = userlink[key] + 1\n",
    "                \n",
    "    neighbors = defaultdict(list)\n",
    "    n=0\n",
    "    for k, v in userlink.items():\n",
    "        if (v) > threshold:\n",
    "            nm = k.split(':')\n",
    "            if len(nm) == 2:\n",
    "                neighbors[int(nm[0])].append(int(nm[1]))\n",
    "                neighbors[int(nm[1])].append(int(nm[0]))\n",
    "                n = n+1\n",
    "                \n",
    "    #print(\"user link수 : \", n)\n",
    "    return neighbors\n",
    "\n",
    "neighbors = graph_cut(ratings)\n",
    "\n",
    "\n",
    "def clustered_nearest_neighbor_user( user, topN, simFunc ) :  \n",
    "    u1 = UM_matrix_ds.loc[user].dropna()\n",
    "    ratedIndex = u1.index\n",
    "    nn = {}\n",
    "    \n",
    "    members = neighbors[user]\n",
    "    ## pre-clustered Compute\n",
    "    for uid in members:\n",
    "        interSectionU1 = []\n",
    "        interSectionU2 = []\n",
    "        if uid==user:\n",
    "            continue\n",
    "        row = UM_matrix_ds.loc[uid]\n",
    "        for i in ratedIndex:\n",
    "            if False==math.isnan(row[i]):\n",
    "                interSectionU1.append(u1[i])\n",
    "                interSectionU2.append(row[i])\n",
    "        interSectionLen = len(interSectionU1)\n",
    "        \n",
    "       \n",
    "    ## At least 3 intersection items\n",
    "        if interSectionLen < 3 :\n",
    "            continue\n",
    "            \n",
    "        ## similarity functon\n",
    "        sim = simFunc(interSectionU1,interSectionU2)\n",
    "        \n",
    "        if  math.isnan(sim) == False:\n",
    "            nn[uid] = sim\n",
    "            \n",
    "    ## top N returned         \n",
    "    return sorted(nn.items(),key=itemgetter(1))[:-(topN+1):-1]"
   ]
  },
  {
   "cell_type": "code",
   "execution_count": 14,
   "metadata": {
    "collapsed": false,
    "scrolled": true
   },
   "outputs": [
    {
     "data": {
      "text/plain": [
       "movieId\n",
       "1           4\n",
       "2         NaN\n",
       "3         NaN\n",
       "4         NaN\n",
       "5         NaN\n",
       "...\n",
       "111759    NaN\n",
       "112556    NaN\n",
       "112623    NaN\n",
       "112852    NaN\n",
       "115617    NaN\n",
       "Name: 10, Length: 3313, dtype: float64"
      ]
     },
     "execution_count": 14,
     "metadata": {},
     "output_type": "execute_result"
    }
   ],
   "source": [
    "UM_matrix_ds.loc[10]"
   ]
  },
  {
   "cell_type": "code",
   "execution_count": 15,
   "metadata": {
    "collapsed": false,
    "scrolled": false
   },
   "outputs": [
    {
     "name": "stdout",
     "output_type": "stream",
     "text": [
      "[(321, 1.0000000000000002), (336, 0.99999999999999989), (498, 0.99999999999999978), (105, 0.99963038254143022), (308, 0.99902486568714022), (183, 0.9989706289089969), (675, 0.99864916181932428), (630, 0.99863230431688021), (138, 0.99841721431714503), (290, 0.99840382978858955), (18, 0.99840382978858955), (244, 0.99822164389532697), (449, 0.99781579644559826), (26, 0.99627250721874983), (6, 0.99591000331047874), (574, 0.99540661581406098), (60, 0.99530644559096504), (260, 0.99524079127088427), (306, 0.99522750237829727), (515, 0.99502588831258199), (325, 0.99498743710661985), (685, 0.9949366763261821), (195, 0.9949366763261821), (127, 0.99493667632618188), (13, 0.99487339879682413), (430, 0.99484975116710983), (472, 0.99453584235718751), (57, 0.99444002464459091), (681, 0.99413484677243424), (217, 0.99413484677243413), (450, 0.99406708268692501), (35, 0.99399908854796626), (577, 0.99388373467361879), (56, 0.99385869319577624), (186, 0.99380892501375828), (690, 0.99349392130816161), (348, 0.99344607497167814), (551, 0.99336326137358022), (519, 0.9929145645409454), (363, 0.9929145645409454), (659, 0.99278096027659557), (388, 0.99257315357683584), (316, 0.99230222728434203), (695, 0.99224263894747755), (546, 0.9920605023176795), (194, 0.99185997577419183), (517, 0.99183659813417568), (34, 0.99183659813417568), (460, 0.99165145378584574), (670, 0.99150963762732347)]\n",
      "(0.44764184951782227, 'sec')\n",
      "[(321, 1.0000000000000002), (336, 0.99999999999999989), (498, 0.99999999999999978), (675, 0.99864916181932428), (138, 0.99841721431714503), (574, 0.99540661581406098), (60, 0.99530644559096504), (260, 0.99524079127088427), (306, 0.99522750237829727), (515, 0.99502588831258199), (127, 0.99493667632618188), (13, 0.99487339879682413), (430, 0.99484975116710983), (57, 0.99444002464459091), (450, 0.99406708268692501), (35, 0.99399908854796626), (56, 0.99385869319577624), (186, 0.99380892501375828), (690, 0.99349392130816161), (348, 0.99344607497167814), (551, 0.99336326137358022), (388, 0.99257315357683584), (316, 0.99230222728434203), (695, 0.99224263894747755), (546, 0.9920605023176795), (194, 0.99185997577419183), (460, 0.99165145378584574), (670, 0.99150963762732347), (19, 0.99127069305617288), (14, 0.9910871271006787), (97, 0.99029521383735575), (452, 0.99025867574990678), (263, 0.98980131521742731), (347, 0.98954555216023266), (693, 0.98876404494382042), (285, 0.98817669840848865), (30, 0.98812609967275389), (537, 0.98780597678343185), (440, 0.98758459076604543), (67, 0.98721747856198794), (486, 0.98692053030453253), (3, 0.98690167244024041), (37, 0.98628998357806097), (541, 0.98602514396176066), (683, 0.98591396499764272), (468, 0.98553136517258011), (660, 0.98541625607664562), (175, 0.98518759360570241), (163, 0.98499493869415189), (528, 0.98480266356403445)]\n",
      "(0.32280802726745605, 'sec')\n"
     ]
    }
   ],
   "source": [
    "st=time.time()\n",
    "print(nearest_neighbor_user(2,50,distance_cosine))\n",
    "print(time.time()-st, 'sec')\n",
    "\n",
    "st=time.time()\n",
    "print(clustered_nearest_neighbor_user(2,50,distance_cosine))\n",
    "print(time.time()-st, 'sec')"
   ]
  },
  {
   "cell_type": "code",
   "execution_count": 16,
   "metadata": {
    "collapsed": false
   },
   "outputs": [],
   "source": [
    "def predictRating(userid, nn=100, simFunc=distance_euclidean, nnFunc=nearest_neighbor_user) :\n",
    "   \n",
    "    ## neighboorhood \n",
    "    neighbor = nnFunc(userid,nn,simFunc)\n",
    "    neighbor_id = [id for id,sim in neighbor]\n",
    "    \n",
    "    ## neighboorhood's movie : al least 4 ratings\n",
    "    neighbor_movie = UM_matrix_ds.loc[neighbor_id]\\\n",
    "                    .dropna(1, how='all', thresh = 4 )\n",
    "    neighbor_dic = (dict(neighbor))\n",
    "    ret = [] # ['movieId', 'predictedRate']\n",
    "    \n",
    "    ## rating predict by my similarities \n",
    "    for movieId, row in neighbor_movie.iteritems():\n",
    "        jsum, wsum = 0, 0\n",
    "        for v in row.dropna().iteritems():\n",
    "            sim = neighbor_dic.get(v[0],0)\n",
    "            jsum += sim\n",
    "            wsum += (v[1]*sim)\n",
    "        ret.append([movieId, wsum/jsum])\n",
    "       \n",
    "    return ret"
   ]
  },
  {
   "cell_type": "code",
   "execution_count": 17,
   "metadata": {
    "collapsed": false
   },
   "outputs": [
    {
     "name": "stdout",
     "output_type": "stream",
     "text": [
      "('none-clustered', 0.7082309722900391)\n",
      "('pre-clustered ', 0.5813510417938232)\n"
     ]
    }
   ],
   "source": [
    "\n",
    "st=time.time()\n",
    "(predictRating(3,20,distance_euclidean, nearest_neighbor_user))\n",
    "print('none-clustered', time.time()-st)\n",
    "\n",
    "st=time.time()\n",
    "(predictRating(3,20,distance_euclidean, clustered_nearest_neighbor_user))\n",
    "print('pre-clustered ',time.time()-st)"
   ]
  },
  {
   "cell_type": "code",
   "execution_count": 18,
   "metadata": {
    "collapsed": false
   },
   "outputs": [
    {
     "data": {
      "text/html": [
       "<div style=\"max-height:1000px;max-width:1500px;overflow:auto;\">\n",
       "<table border=\"1\" class=\"dataframe\">\n",
       "  <thead>\n",
       "    <tr style=\"text-align: right;\">\n",
       "      <th></th>\n",
       "      <th>movieId</th>\n",
       "      <th>title</th>\n",
       "      <th>genres</th>\n",
       "      <th>predicted_rating</th>\n",
       "    </tr>\n",
       "  </thead>\n",
       "  <tbody>\n",
       "    <tr>\n",
       "      <th>106</th>\n",
       "      <td> 1080</td>\n",
       "      <td>           Monty Python's Life of Brian (1979)</td>\n",
       "      <td>                       Comedy</td>\n",
       "      <td> 4.915104</td>\n",
       "    </tr>\n",
       "    <tr>\n",
       "      <th>131</th>\n",
       "      <td> 2019</td>\n",
       "      <td>   Seven Samurai (Shichinin no samurai) (1954)</td>\n",
       "      <td>       Action|Adventure|Drama</td>\n",
       "      <td> 4.875395</td>\n",
       "    </tr>\n",
       "    <tr>\n",
       "      <th>134</th>\n",
       "      <td> 2324</td>\n",
       "      <td>    Life Is Beautiful (La Vita è bella) (1997)</td>\n",
       "      <td>     Comedy|Drama|Romance|War</td>\n",
       "      <td> 4.660577</td>\n",
       "    </tr>\n",
       "    <tr>\n",
       "      <th>16 </th>\n",
       "      <td>   50</td>\n",
       "      <td>                    Usual Suspects, The (1995)</td>\n",
       "      <td>       Crime|Mystery|Thriller</td>\n",
       "      <td> 4.629133</td>\n",
       "    </tr>\n",
       "    <tr>\n",
       "      <th>73 </th>\n",
       "      <td>  497</td>\n",
       "      <td>                 Much Ado About Nothing (1993)</td>\n",
       "      <td>               Comedy|Romance</td>\n",
       "      <td> 4.611773</td>\n",
       "    </tr>\n",
       "    <tr>\n",
       "      <th>174</th>\n",
       "      <td> 3578</td>\n",
       "      <td>                              Gladiator (2000)</td>\n",
       "      <td>       Action|Adventure|Drama</td>\n",
       "      <td> 4.611430</td>\n",
       "    </tr>\n",
       "    <tr>\n",
       "      <th>193</th>\n",
       "      <td> 5952</td>\n",
       "      <td> Lord of the Rings: The Two Towers, The (2002)</td>\n",
       "      <td>            Adventure|Fantasy</td>\n",
       "      <td> 4.567527</td>\n",
       "    </tr>\n",
       "    <tr>\n",
       "      <th>...</th>\n",
       "      <td>...</td>\n",
       "      <td>...</td>\n",
       "      <td>...</td>\n",
       "      <td>...</td>\n",
       "    </tr>\n",
       "    <tr>\n",
       "      <th>55 </th>\n",
       "      <td>  344</td>\n",
       "      <td>             Ace Ventura: Pet Detective (1994)</td>\n",
       "      <td>                       Comedy</td>\n",
       "      <td> 2.442684</td>\n",
       "    </tr>\n",
       "    <tr>\n",
       "      <th>160</th>\n",
       "      <td> 2805</td>\n",
       "      <td>                       Mickey Blue Eyes (1999)</td>\n",
       "      <td>               Comedy|Romance</td>\n",
       "      <td> 2.357886</td>\n",
       "    </tr>\n",
       "    <tr>\n",
       "      <th>151</th>\n",
       "      <td> 2713</td>\n",
       "      <td>                            Lake Placid (1999)</td>\n",
       "      <td>              Horror|Thriller</td>\n",
       "      <td> 2.342141</td>\n",
       "    </tr>\n",
       "    <tr>\n",
       "      <th>36 </th>\n",
       "      <td>  231</td>\n",
       "      <td>        Dumb &amp; Dumber (Dumb and Dumber) (1994)</td>\n",
       "      <td>             Adventure|Comedy</td>\n",
       "      <td> 2.287905</td>\n",
       "    </tr>\n",
       "    <tr>\n",
       "      <th>153</th>\n",
       "      <td> 2719</td>\n",
       "      <td>                          Haunting, The (1999)</td>\n",
       "      <td>              Horror|Thriller</td>\n",
       "      <td> 2.275319</td>\n",
       "    </tr>\n",
       "    <tr>\n",
       "      <th>147</th>\n",
       "      <td> 2701</td>\n",
       "      <td>                         Wild Wild West (1999)</td>\n",
       "      <td> Action|Comedy|Sci-Fi|Western</td>\n",
       "      <td> 2.036994</td>\n",
       "    </tr>\n",
       "    <tr>\n",
       "      <th>161</th>\n",
       "      <td> 2826</td>\n",
       "      <td>                      13th Warrior, The (1999)</td>\n",
       "      <td>     Action|Adventure|Fantasy</td>\n",
       "      <td> 1.957684</td>\n",
       "    </tr>\n",
       "  </tbody>\n",
       "</table>\n",
       "<p>207 rows × 4 columns</p>\n",
       "</div>"
      ],
      "text/plain": [
       "     movieId                                          title  \\\n",
       "106     1080            Monty Python's Life of Brian (1979)   \n",
       "131     2019    Seven Samurai (Shichinin no samurai) (1954)   \n",
       "134     2324     Life Is Beautiful (La Vita è bella) (1997)   \n",
       "16        50                     Usual Suspects, The (1995)   \n",
       "73       497                  Much Ado About Nothing (1993)   \n",
       "174     3578                               Gladiator (2000)   \n",
       "193     5952  Lord of the Rings: The Two Towers, The (2002)   \n",
       "..       ...                                            ...   \n",
       "55       344              Ace Ventura: Pet Detective (1994)   \n",
       "160     2805                        Mickey Blue Eyes (1999)   \n",
       "151     2713                             Lake Placid (1999)   \n",
       "36       231         Dumb & Dumber (Dumb and Dumber) (1994)   \n",
       "153     2719                           Haunting, The (1999)   \n",
       "147     2701                          Wild Wild West (1999)   \n",
       "161     2826                       13th Warrior, The (1999)   \n",
       "\n",
       "                           genres  predicted_rating  \n",
       "106                        Comedy          4.915104  \n",
       "131        Action|Adventure|Drama          4.875395  \n",
       "134      Comedy|Drama|Romance|War          4.660577  \n",
       "16         Crime|Mystery|Thriller          4.629133  \n",
       "73                 Comedy|Romance          4.611773  \n",
       "174        Action|Adventure|Drama          4.611430  \n",
       "193             Adventure|Fantasy          4.567527  \n",
       "..                            ...               ...  \n",
       "55                         Comedy          2.442684  \n",
       "160                Comedy|Romance          2.357886  \n",
       "151               Horror|Thriller          2.342141  \n",
       "36               Adventure|Comedy          2.287905  \n",
       "153               Horror|Thriller          2.275319  \n",
       "147  Action|Comedy|Sci-Fi|Western          2.036994  \n",
       "161      Action|Adventure|Fantasy          1.957684  \n",
       "\n",
       "[207 rows x 4 columns]"
      ]
     },
     "execution_count": 18,
     "metadata": {},
     "output_type": "execute_result"
    }
   ],
   "source": [
    "## user의 별점 매긴 영화와 영화 정보 높은 별점순으로 보기 \n",
    "def ratingMovies(userid):\n",
    "    ds = pd.merge(ratings[ratings.userId==userid], movies, on=['movieId'])\n",
    "    return ds.sort(['rating'],ascending=False)[['rating','title','genres','movieId']].head(100)\n",
    "\n",
    "def join_movie_info( predicted_result ):\n",
    "    predicted_ratings = pd.DataFrame(predicted_result, columns=['movieId', 'predicted_rating'])\n",
    "    result_ds = pd.merge( movies[movies.movieId > 0], predicted_ratings, on=['movieId'])\n",
    "    return result_ds.sort(['predicted_rating'], ascending=False)\n",
    "\n",
    "result = predictRating(1);\n",
    "join_movie_info(result)"
   ]
  },
  {
   "cell_type": "code",
   "execution_count": 19,
   "metadata": {
    "collapsed": false
   },
   "outputs": [],
   "source": [
    "eval_ratings = ratings\n",
    "## evaluation\n",
    "eval_ds = pd.merge(eval_ratings, \n",
    "                   ratings[['movieId','rating']].groupby(['movieId']).mean().reset_index(), \n",
    "                   on='movieId', how='left')\n",
    "\n",
    "eval_ds = eval_ds.rename(columns= {'rating_x':'rating', 'rating_y':'mean_rating'})"
   ]
  },
  {
   "cell_type": "code",
   "execution_count": 20,
   "metadata": {
    "collapsed": false
   },
   "outputs": [],
   "source": [
    "# ratings['userId'].drop_duplicates().values[:]\n",
    "def eval_prediction( predict_users, eval_ds, n_users=50 ):\n",
    "    st = time.time()\n",
    "    ## udpate to predict_rating \n",
    "    distance_functions = [ ('euclidean',distance_euclidean), ('cosine', distance_cosine) ]\n",
    "    for name, func in distance_functions:\n",
    "        eval_ds[name] = 0\n",
    "        for userId in predict_users:\n",
    "            for x in predictRating(userId, n_users, func):\n",
    "                eval_ds.loc[(eval_ds.userId==userId) & (eval_ds.movieId==x[0]),name]=x[1]\n",
    "    print('elapsed', round(time.time()-st,2), 'sec')\n",
    "    return eval_ds[eval_ds.euclidean+eval_ds.cosine>0]\n",
    "\n"
   ]
  },
  {
   "cell_type": "code",
   "execution_count": 21,
   "metadata": {
    "collapsed": true
   },
   "outputs": [],
   "source": [
    "# ratings['userId'].drop_duplicates().values[:]\n",
    "def eval_prediction( predict_users, ds,  n_users=50 ):\n",
    "    st = time.time()\n",
    "    ## udpate to predict_rating \n",
    "    distance_functions = [ ('euclidean',distance_euclidean), ('cosine', distance_cosine) ]\n",
    "    for name, func in distance_functions:\n",
    "        ds[name] = 0\n",
    "        for userId in predict_users:\n",
    "            for x in predictRating(userId, n_users, func):\n",
    "                ds.loc[(ds.userId==userId) & (ds.movieId==x[0]),name]=x[1]\n",
    "    print('elapsed', round(time.time()-st,2), 'sec')\n",
    "    return ds[ds.euclidean+ds.cosine>0]"
   ]
  },
  {
   "cell_type": "code",
   "execution_count": 22,
   "metadata": {
    "collapsed": false
   },
   "outputs": [],
   "source": [
    "## 전체 userId list \n",
    "users = UM_matrix_ds.index.tolist()"
   ]
  },
  {
   "cell_type": "code",
   "execution_count": 23,
   "metadata": {
    "collapsed": false
   },
   "outputs": [
    {
     "name": "stdout",
     "output_type": "stream",
     "text": [
      "('elapsed', 7.36, 'sec')\n"
     ]
    }
   ],
   "source": [
    "## 10명 별점 예측\n",
    "predicted = eval_prediction( users[:2], eval_ds, 100 )"
   ]
  },
  {
   "cell_type": "code",
   "execution_count": 26,
   "metadata": {
    "collapsed": false
   },
   "outputs": [
    {
     "name": "stdout",
     "output_type": "stream",
     "text": [
      "MAE of mean_rating is 0.747331394447 \n",
      "MAE of cosine is 0.532438445171 \n",
      "MAE of euclidean is 0.477710512547 \n",
      "RMSE of mean_rating is 0.887309417815 \n",
      "RMSE of cosine is 0.638476358644 \n",
      "RMSE of euclidean is 0.581608714321 \n"
     ]
    }
   ],
   "source": [
    "def RMSE(X, left_col, right_col):\n",
    "    return(np.sqrt(np.mean((X[left_col] - X[right_col])**2)))\n",
    "\n",
    "def MAE(X, left_col, right_col):\n",
    "    return(np.mean(np.absolute(X[left_col] - X[right_col])) )\n",
    "\n",
    "\n",
    "for name in ['mean_rating', 'cosine', 'euclidean']:\n",
    "    print (\"MAE of {0} is {1} \".format(name, MAE( predicted[predicted[name] > 0], 'rating', name )))\n",
    "\n",
    "for name in ['mean_rating', 'cosine', 'euclidean']:\n",
    "    print (\"RMSE of {0} is {1} \".format(name, RMSE( predicted[predicted[name] > 0], 'rating', name )))\n"
   ]
  },
  {
   "cell_type": "code",
   "execution_count": null,
   "metadata": {
    "collapsed": true
   },
   "outputs": [],
   "source": []
  },
  {
   "cell_type": "code",
   "execution_count": null,
   "metadata": {
    "collapsed": true
   },
   "outputs": [],
   "source": []
  }
 ],
 "metadata": {
  "kernelspec": {
   "display_name": "Python 2",
   "language": "python",
   "name": "python2"
  },
  "language_info": {
   "name": "python",
   "version": "2.7.9"
  }
 },
 "nbformat": 4,
 "nbformat_minor": 0
}
