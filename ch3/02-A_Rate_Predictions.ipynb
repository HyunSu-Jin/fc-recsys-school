{
 "cells": [
  {
   "cell_type": "code",
   "execution_count": 48,
   "metadata": {
    "collapsed": false
   },
   "outputs": [],
   "source": [
    "# coding: utf-8\n",
    "\n",
    "import pandas as pd\n",
    "import numpy as np\n",
    "from matplotlib import rcParams\n",
    "import matplotlib.pyplot as plt\n",
    "from collections import defaultdict\n",
    "from datetime import datetime\n",
    "import matplotlib.patches as mpatches\n",
    "import matplotlib\n",
    "import time\n",
    "from __future__ import print_function\n",
    "%matplotlib inline  \n",
    "\n",
    "rcParams['font.family'] = 'NanumGothic'\n",
    "rcParams.update({'font.size': 12})\n",
    "matplotlib.style.use('ggplot')\n",
    "pd.options.display.max_rows=14\n"
   ]
  },
  {
   "cell_type": "markdown",
   "metadata": {},
   "source": [
    "## 무비 렌즈 데이터로 별점을 예측해 보자 \n",
    "* User Based 별점 예측 \n",
    "* Item(Movie) Based 별점 예측"
   ]
  },
  {
   "cell_type": "markdown",
   "metadata": {},
   "source": [
    "Movie Lens 데이터 로드 \n",
    "http://grouplens.org/datasets/movielens/"
   ]
  },
  {
   "cell_type": "code",
   "execution_count": 49,
   "metadata": {
    "collapsed": false
   },
   "outputs": [],
   "source": [
    "def movieLensDataLoad(type):\n",
    "    ## user 영화 별점 data \n",
    "    ratings = pd.read_csv(\"/Users/goodvc/Documents/data-analytics/movie-recommendation/\"+type+\"/ratings.csv\")\n",
    "\n",
    "    ## movie meta(타이트,장르) data \n",
    "    movies = pd.read_csv(\"/Users/goodvc/Documents/data-analytics/movie-recommendation/\"+type+\"/movies.csv\")\n",
    "\n",
    "    ## user가 영화에 tag를 기입한 data\n",
    "    tags = pd.read_csv(\"/Users/goodvc/Documents/data-analytics/movie-recommendation/\"+type+\"/tags.csv\")\n",
    "    # tags = pd.read_csv(\"/Users/goodvc/Documents/data-analytics/movie-recommendation/ml-20m/tags.csv\")\n",
    "    return ( ratings, movies, tags )\n",
    "\n",
    "#ratings, movies, tags = movieLensDataLoad('ml-20m')\n",
    "ratings, movies, tags = movieLensDataLoad('ml-latest-small')"
   ]
  },
  {
   "cell_type": "code",
   "execution_count": 50,
   "metadata": {
    "collapsed": false
   },
   "outputs": [
    {
     "data": {
      "text/html": [
       "<div style=\"max-height:1000px;max-width:1500px;overflow:auto;\">\n",
       "<table border=\"1\" class=\"dataframe\">\n",
       "  <thead>\n",
       "    <tr style=\"text-align: right;\">\n",
       "      <th></th>\n",
       "      <th>userId</th>\n",
       "      <th>movieId</th>\n",
       "      <th>rating</th>\n",
       "      <th>timestamp</th>\n",
       "    </tr>\n",
       "  </thead>\n",
       "  <tbody>\n",
       "    <tr>\n",
       "      <th>0</th>\n",
       "      <td> 1</td>\n",
       "      <td>  6</td>\n",
       "      <td> 2</td>\n",
       "      <td> 980730861</td>\n",
       "    </tr>\n",
       "    <tr>\n",
       "      <th>1</th>\n",
       "      <td> 1</td>\n",
       "      <td> 22</td>\n",
       "      <td> 3</td>\n",
       "      <td> 980731380</td>\n",
       "    </tr>\n",
       "  </tbody>\n",
       "</table>\n",
       "</div>"
      ],
      "text/plain": [
       "   userId  movieId  rating  timestamp\n",
       "0       1        6       2  980730861\n",
       "1       1       22       3  980731380"
      ]
     },
     "execution_count": 50,
     "metadata": {},
     "output_type": "execute_result"
    }
   ],
   "source": [
    "#ratings = pd.read_csv(\"movieLens/ml-latest-small/ratings.csv\")\n",
    "ratings.head(2)"
   ]
  },
  {
   "cell_type": "code",
   "execution_count": 51,
   "metadata": {
    "collapsed": false
   },
   "outputs": [
    {
     "data": {
      "text/html": [
       "<div style=\"max-height:1000px;max-width:1500px;overflow:auto;\">\n",
       "<table border=\"1\" class=\"dataframe\">\n",
       "  <thead>\n",
       "    <tr style=\"text-align: right;\">\n",
       "      <th></th>\n",
       "      <th>movieId</th>\n",
       "      <th>title</th>\n",
       "      <th>genres</th>\n",
       "    </tr>\n",
       "  </thead>\n",
       "  <tbody>\n",
       "    <tr>\n",
       "      <th>0   </th>\n",
       "      <td>      1</td>\n",
       "      <td>                   Toy Story (1995)</td>\n",
       "      <td> Adventure|Animation|Children|Comedy|Fantasy</td>\n",
       "    </tr>\n",
       "    <tr>\n",
       "      <th>1   </th>\n",
       "      <td>      2</td>\n",
       "      <td>                     Jumanji (1995)</td>\n",
       "      <td>                  Adventure|Children|Fantasy</td>\n",
       "    </tr>\n",
       "    <tr>\n",
       "      <th>2   </th>\n",
       "      <td>      3</td>\n",
       "      <td>            Grumpier Old Men (1995)</td>\n",
       "      <td>                              Comedy|Romance</td>\n",
       "    </tr>\n",
       "    <tr>\n",
       "      <th>3   </th>\n",
       "      <td>      4</td>\n",
       "      <td>           Waiting to Exhale (1995)</td>\n",
       "      <td>                        Comedy|Drama|Romance</td>\n",
       "    </tr>\n",
       "    <tr>\n",
       "      <th>4   </th>\n",
       "      <td>      5</td>\n",
       "      <td> Father of the Bride Part II (1995)</td>\n",
       "      <td>                                      Comedy</td>\n",
       "    </tr>\n",
       "    <tr>\n",
       "      <th>5   </th>\n",
       "      <td>      6</td>\n",
       "      <td>                        Heat (1995)</td>\n",
       "      <td>                       Action|Crime|Thriller</td>\n",
       "    </tr>\n",
       "    <tr>\n",
       "      <th>6   </th>\n",
       "      <td>      7</td>\n",
       "      <td>                     Sabrina (1995)</td>\n",
       "      <td>                              Comedy|Romance</td>\n",
       "    </tr>\n",
       "    <tr>\n",
       "      <th>...</th>\n",
       "      <td>...</td>\n",
       "      <td>...</td>\n",
       "      <td>...</td>\n",
       "    </tr>\n",
       "    <tr>\n",
       "      <th>8563</th>\n",
       "      <td> 122756</td>\n",
       "      <td>          None But the Brave (1965)</td>\n",
       "      <td>                                   Drama|War</td>\n",
       "    </tr>\n",
       "    <tr>\n",
       "      <th>8564</th>\n",
       "      <td> 123109</td>\n",
       "      <td>                   P.U.N.K.S (1999)</td>\n",
       "      <td>                      Children|Comedy|Sci-Fi</td>\n",
       "    </tr>\n",
       "    <tr>\n",
       "      <th>8565</th>\n",
       "      <td> 124857</td>\n",
       "      <td>                   Deception (2013)</td>\n",
       "      <td>                                      Action</td>\n",
       "    </tr>\n",
       "    <tr>\n",
       "      <th>8566</th>\n",
       "      <td> 125916</td>\n",
       "      <td>        Fifty Shades of Grey (2015)</td>\n",
       "      <td>                                       Drama</td>\n",
       "    </tr>\n",
       "    <tr>\n",
       "      <th>8567</th>\n",
       "      <td> 126407</td>\n",
       "      <td>              Face of Terror (2005)</td>\n",
       "      <td>                       Action|Drama|Thriller</td>\n",
       "    </tr>\n",
       "    <tr>\n",
       "      <th>8568</th>\n",
       "      <td> 129454</td>\n",
       "      <td>        JFK: The Smoking Gun (2013)</td>\n",
       "      <td>                                 Documentary</td>\n",
       "    </tr>\n",
       "    <tr>\n",
       "      <th>8569</th>\n",
       "      <td> 129651</td>\n",
       "      <td>   The Third Reich: The Rise &amp; Fall</td>\n",
       "      <td>                          (no genres listed)</td>\n",
       "    </tr>\n",
       "  </tbody>\n",
       "</table>\n",
       "<p>8570 rows × 3 columns</p>\n",
       "</div>"
      ],
      "text/plain": [
       "      movieId                               title  \\\n",
       "0           1                    Toy Story (1995)   \n",
       "1           2                      Jumanji (1995)   \n",
       "2           3             Grumpier Old Men (1995)   \n",
       "3           4            Waiting to Exhale (1995)   \n",
       "4           5  Father of the Bride Part II (1995)   \n",
       "5           6                         Heat (1995)   \n",
       "6           7                      Sabrina (1995)   \n",
       "...       ...                                 ...   \n",
       "8563   122756           None But the Brave (1965)   \n",
       "8564   123109                    P.U.N.K.S (1999)   \n",
       "8565   124857                    Deception (2013)   \n",
       "8566   125916         Fifty Shades of Grey (2015)   \n",
       "8567   126407               Face of Terror (2005)   \n",
       "8568   129454         JFK: The Smoking Gun (2013)   \n",
       "8569   129651    The Third Reich: The Rise & Fall   \n",
       "\n",
       "                                           genres  \n",
       "0     Adventure|Animation|Children|Comedy|Fantasy  \n",
       "1                      Adventure|Children|Fantasy  \n",
       "2                                  Comedy|Romance  \n",
       "3                            Comedy|Drama|Romance  \n",
       "4                                          Comedy  \n",
       "5                           Action|Crime|Thriller  \n",
       "6                                  Comedy|Romance  \n",
       "...                                           ...  \n",
       "8563                                    Drama|War  \n",
       "8564                       Children|Comedy|Sci-Fi  \n",
       "8565                                       Action  \n",
       "8566                                        Drama  \n",
       "8567                        Action|Drama|Thriller  \n",
       "8568                                  Documentary  \n",
       "8569                           (no genres listed)  \n",
       "\n",
       "[8570 rows x 3 columns]"
      ]
     },
     "execution_count": 51,
     "metadata": {},
     "output_type": "execute_result"
    }
   ],
   "source": [
    "movies"
   ]
  },
  {
   "cell_type": "code",
   "execution_count": 52,
   "metadata": {
    "collapsed": false
   },
   "outputs": [
    {
     "data": {
      "text/html": [
       "<div style=\"max-height:1000px;max-width:1500px;overflow:auto;\">\n",
       "<table border=\"1\" class=\"dataframe\">\n",
       "  <thead>\n",
       "    <tr style=\"text-align: right;\">\n",
       "      <th></th>\n",
       "      <th>userId</th>\n",
       "      <th>movieId</th>\n",
       "      <th>tag</th>\n",
       "      <th>timestamp</th>\n",
       "    </tr>\n",
       "  </thead>\n",
       "  <tbody>\n",
       "    <tr>\n",
       "      <th>0</th>\n",
       "      <td> 40</td>\n",
       "      <td> 1</td>\n",
       "      <td> animation</td>\n",
       "      <td> 1306926135</td>\n",
       "    </tr>\n",
       "    <tr>\n",
       "      <th>1</th>\n",
       "      <td> 40</td>\n",
       "      <td> 1</td>\n",
       "      <td>   fantasy</td>\n",
       "      <td> 1306926130</td>\n",
       "    </tr>\n",
       "  </tbody>\n",
       "</table>\n",
       "</div>"
      ],
      "text/plain": [
       "   userId  movieId        tag   timestamp\n",
       "0      40        1  animation  1306926135\n",
       "1      40        1    fantasy  1306926130"
      ]
     },
     "execution_count": 52,
     "metadata": {},
     "output_type": "execute_result"
    }
   ],
   "source": [
    "tags.head(2)"
   ]
  },
  {
   "cell_type": "markdown",
   "metadata": {},
   "source": [
    "### User Based 별점 예측 \n",
    "\n",
    "U(User) \n",
    "M(Movie)\n",
    "\n",
    "1. U X M vector Matrix를 만든다. \n",
    " key가 userid, value가 { 'movieId':rating } \n",
    "2. 나와 비슷한 유저를 찾는다. "
   ]
  },
  {
   "cell_type": "code",
   "execution_count": 59,
   "metadata": {
    "collapsed": false
   },
   "outputs": [
    {
     "name": "stdout",
     "output_type": "stream",
     "text": [
      "UM Matrix value size 6037712\n",
      "ratings value size 400092\n"
     ]
    }
   ],
   "source": [
    "## 1. U X M vector Matrix를 만든다. \n",
    "UM_matrix_ds = ratings.pivot(index='userId', columns='movieId', values='rating')\n",
    "\n",
    "print( \"UM Matrix value size\", UM_matrix_ds.values.size)\n",
    "print( \"ratings value size\", ratings.values.size)\n"
   ]
  },
  {
   "cell_type": "code",
   "execution_count": 60,
   "metadata": {
    "collapsed": false
   },
   "outputs": [
    {
     "data": {
      "text/html": [
       "<div style=\"max-height:1000px;max-width:1500px;overflow:auto;\">\n",
       "<table border=\"1\" class=\"dataframe\">\n",
       "  <thead>\n",
       "    <tr style=\"text-align: right;\">\n",
       "      <th>movieId</th>\n",
       "      <th>1</th>\n",
       "      <th>2</th>\n",
       "      <th>3</th>\n",
       "      <th>4</th>\n",
       "      <th>5</th>\n",
       "      <th>6</th>\n",
       "      <th>7</th>\n",
       "      <th>8</th>\n",
       "      <th>9</th>\n",
       "      <th>10</th>\n",
       "      <th>...</th>\n",
       "      <th>121271</th>\n",
       "      <th>122284</th>\n",
       "      <th>122495</th>\n",
       "      <th>122756</th>\n",
       "      <th>123109</th>\n",
       "      <th>124857</th>\n",
       "      <th>125916</th>\n",
       "      <th>126407</th>\n",
       "      <th>129454</th>\n",
       "      <th>129651</th>\n",
       "    </tr>\n",
       "    <tr>\n",
       "      <th>userId</th>\n",
       "      <th></th>\n",
       "      <th></th>\n",
       "      <th></th>\n",
       "      <th></th>\n",
       "      <th></th>\n",
       "      <th></th>\n",
       "      <th></th>\n",
       "      <th></th>\n",
       "      <th></th>\n",
       "      <th></th>\n",
       "      <th></th>\n",
       "      <th></th>\n",
       "      <th></th>\n",
       "      <th></th>\n",
       "      <th></th>\n",
       "      <th></th>\n",
       "      <th></th>\n",
       "      <th></th>\n",
       "      <th></th>\n",
       "      <th></th>\n",
       "      <th></th>\n",
       "    </tr>\n",
       "  </thead>\n",
       "  <tbody>\n",
       "    <tr>\n",
       "      <th>1</th>\n",
       "      <td>NaN</td>\n",
       "      <td>NaN</td>\n",
       "      <td>NaN</td>\n",
       "      <td>NaN</td>\n",
       "      <td>NaN</td>\n",
       "      <td>  2</td>\n",
       "      <td>NaN</td>\n",
       "      <td>NaN</td>\n",
       "      <td>NaN</td>\n",
       "      <td>NaN</td>\n",
       "      <td>...</td>\n",
       "      <td>NaN</td>\n",
       "      <td>NaN</td>\n",
       "      <td>NaN</td>\n",
       "      <td>NaN</td>\n",
       "      <td>NaN</td>\n",
       "      <td>NaN</td>\n",
       "      <td>NaN</td>\n",
       "      <td>NaN</td>\n",
       "      <td>NaN</td>\n",
       "      <td>NaN</td>\n",
       "    </tr>\n",
       "    <tr>\n",
       "      <th>2</th>\n",
       "      <td>NaN</td>\n",
       "      <td>  4</td>\n",
       "      <td>NaN</td>\n",
       "      <td>NaN</td>\n",
       "      <td>NaN</td>\n",
       "      <td>NaN</td>\n",
       "      <td>NaN</td>\n",
       "      <td>NaN</td>\n",
       "      <td>NaN</td>\n",
       "      <td>NaN</td>\n",
       "      <td>...</td>\n",
       "      <td>NaN</td>\n",
       "      <td>NaN</td>\n",
       "      <td>NaN</td>\n",
       "      <td>NaN</td>\n",
       "      <td>NaN</td>\n",
       "      <td>NaN</td>\n",
       "      <td>NaN</td>\n",
       "      <td>NaN</td>\n",
       "      <td>NaN</td>\n",
       "      <td>NaN</td>\n",
       "    </tr>\n",
       "  </tbody>\n",
       "</table>\n",
       "<p>2 rows × 8552 columns</p>\n",
       "</div>"
      ],
      "text/plain": [
       "movieId  1       2       3       4       5       6       7       8       \\\n",
       "userId                                                                    \n",
       "1           NaN     NaN     NaN     NaN     NaN       2     NaN     NaN   \n",
       "2           NaN       4     NaN     NaN     NaN     NaN     NaN     NaN   \n",
       "\n",
       "movieId  9       10       ...    121271  122284  122495  122756  123109  \\\n",
       "userId                    ...                                             \n",
       "1           NaN     NaN   ...       NaN     NaN     NaN     NaN     NaN   \n",
       "2           NaN     NaN   ...       NaN     NaN     NaN     NaN     NaN   \n",
       "\n",
       "movieId  124857  125916  126407  129454  129651  \n",
       "userId                                           \n",
       "1           NaN     NaN     NaN     NaN     NaN  \n",
       "2           NaN     NaN     NaN     NaN     NaN  \n",
       "\n",
       "[2 rows x 8552 columns]"
      ]
     },
     "execution_count": 60,
     "metadata": {},
     "output_type": "execute_result"
    }
   ],
   "source": [
    "UM_matrix_ds.head(2)"
   ]
  },
  {
   "cell_type": "code",
   "execution_count": 61,
   "metadata": {
    "collapsed": true
   },
   "outputs": [],
   "source": [
    "## 그럼 이제 최근접 이웃을 찾차 보자\n",
    "## \n",
    "import math\n",
    "from operator import itemgetter\n",
    "from scipy.spatial import distance\n",
    "\n",
    "def distance_cosine(a,b):\n",
    "    return 1-distance.cosine(a,b)\n",
    "\n",
    "def disance_corr(a,b):\n",
    "    return 1-distance.correlation (a,b)\n",
    "\n",
    "def distance_euclidean(a,b):\n",
    "    return 1/(distance.euclidean(a,b)+1)"
   ]
  },
  {
   "cell_type": "code",
   "execution_count": 62,
   "metadata": {
    "collapsed": false
   },
   "outputs": [],
   "source": [
    "def nearest_neighbor_user( user, topN, simFunc ) :  \n",
    "    u1 = UM_matrix_ds.loc[user].dropna()\n",
    "    ratedIndex = u1.index\n",
    "    nn = {}\n",
    "    \n",
    "    ## Brote Force Compute\n",
    "    for uid, row in UM_matrix_ds.iterrows():\n",
    "        interSectionU1 = []\n",
    "        interSectionU2 = []\n",
    "        if uid==user:\n",
    "            continue\n",
    "            \n",
    "        for i in ratedIndex:\n",
    "            if False==math.isnan(row[i]):\n",
    "                interSectionU1.append(u1[i])\n",
    "                interSectionU2.append(row[i])\n",
    "        interSectionLen = len(interSectionU1)\n",
    "        \n",
    "       \n",
    "        ## At least 3 intersection items\n",
    "        if interSectionLen < 3 :\n",
    "            continue\n",
    "            \n",
    "        ## similarity functon\n",
    "        sim = simFunc(interSectionU1,interSectionU2)\n",
    "        \n",
    "        if  math.isnan(sim) == False:\n",
    "            nn[uid] = sim\n",
    "            \n",
    "    ## top N returned         \n",
    "    return sorted(nn.items(),key=itemgetter(1))[:-(topN+1):-1]"
   ]
  },
  {
   "cell_type": "code",
   "execution_count": 63,
   "metadata": {
    "collapsed": false,
    "scrolled": false
   },
   "outputs": [
    {
     "name": "stdout",
     "output_type": "stream",
     "text": [
      "[(466, 1.0), (421, 1.0), (131, 1.0), (287, 0.6666666666666666), (573, 0.585786437626905), (651, 0.5), (586, 0.5), (412, 0.5), (307, 0.5), (253, 0.5), (53, 0.5), (530, 0.4721359549995794), (317, 0.4721359549995794), (82, 0.4721359549995794), (291, 0.4494897427831781), (290, 0.4494897427831781), (282, 0.4494897427831781), (243, 0.4494897427831781), (13, 0.43050087404306037), (669, 0.4142135623730951), (667, 0.4142135623730951), (495, 0.4142135623730951), (451, 0.4142135623730951), (217, 0.4142135623730951), (171, 0.4142135623730951), (12, 0.4142135623730951), (514, 0.4), (539, 0.3761785115301142), (348, 0.3761785115301142), (695, 0.36602540378443865), (685, 0.36602540378443865), (653, 0.36602540378443865), (629, 0.36602540378443865), (589, 0.36602540378443865), (486, 0.36602540378443865), (465, 0.36602540378443865), (388, 0.36602540378443865), (306, 0.36602540378443865), (300, 0.36602540378443865), (293, 0.36602540378443865), (275, 0.36602540378443865), (261, 0.36602540378443865), (211, 0.36602540378443865), (181, 0.36602540378443865), (135, 0.36602540378443865), (133, 0.36602540378443865), (118, 0.36602540378443865), (183, 0.3483314773547883), (694, 0.3333333333333333), (688, 0.3333333333333333)]\n",
      "0.89525103569 sec\n"
     ]
    }
   ],
   "source": [
    "st=time.time()\n",
    "print(nearest_neighbor_user(8, 50, distance_euclidean))\n",
    "print(time.time()-st, 'sec')"
   ]
  },
  {
   "cell_type": "code",
   "execution_count": 64,
   "metadata": {
    "collapsed": false
   },
   "outputs": [],
   "source": [
    "def predictRating(userid, nn=50, simFunc=distance_euclidean) :\n",
    "   \n",
    "    ## neighboorhood \n",
    "    neighbor = nearest_neighbor_user(userid,nn,simFunc)\n",
    "    neighbor_id = [id for id,sim in neighbor]\n",
    "    \n",
    "    ## neighboorhood's movie : al least 4 ratings\n",
    "    neighbor_movie = UM_matrix_ds.loc[neighbor_id]\\\n",
    "                    .dropna(1, how='all', thresh = 4 )\n",
    "    neighbor_dic = (dict(neighbor))\n",
    "    ret = [] # ['movieId', 'predictedRate']\n",
    "    \n",
    "    ## rating predict by my similarities \n",
    "    for movieId, row in neighbor_movie.iteritems():\n",
    "        jsum, wsum = 0, 0\n",
    "        for v in row.dropna().iteritems():\n",
    "            sim = neighbor_dic.get(v[0],0)\n",
    "            jsum += sim\n",
    "            wsum += (v[1]*sim)\n",
    "        ret.append([movieId, wsum/jsum])\n",
    "       \n",
    "    return ret"
   ]
  },
  {
   "cell_type": "code",
   "execution_count": 65,
   "metadata": {
    "collapsed": false
   },
   "outputs": [
    {
     "data": {
      "text/plain": [
       "[[1, 3.7902482995791584],\n",
       " [2, 3.7788302655646651],\n",
       " [3, 2.9489890166409505],\n",
       " [5, 3.7419625820076359],\n",
       " [10, 2.7497764923259411],\n",
       " [25, 3.2271363730166889],\n",
       " [34, 3.9862394442199554],\n",
       " [50, 4.6015889505373977],\n",
       " [58, 3.5928363128687852],\n",
       " [79, 3.0439711535207956],\n",
       " [95, 3.5215472352746335],\n",
       " [104, 3.2469174320820824],\n",
       " [110, 4.0797268894568646],\n",
       " [150, 3.6458125556256626],\n",
       " [153, 3.4100995855217082],\n",
       " [161, 3.4362834417719217],\n",
       " [165, 3.3387052277789402],\n",
       " [185, 3.2294969673387031],\n",
       " [208, 3.5955380683725973],\n",
       " [231, 2.4225833112062376],\n",
       " [253, 3.1701606146530308],\n",
       " [260, 3.2468268935346627],\n",
       " [292, 3.5211776650989304],\n",
       " [296, 3.865404683450874],\n",
       " [316, 3.5572746710810552],\n",
       " [318, 4.1192292882856059],\n",
       " [329, 3.5081785005444828],\n",
       " [339, 3.1342804525965087],\n",
       " [342, 3.2524518239753317],\n",
       " [344, 2.5742620529244866],\n",
       " [349, 3.5635992003540005],\n",
       " [356, 3.993261716634708],\n",
       " [364, 3.8054580608590767],\n",
       " [376, 3.4952385544350855],\n",
       " [377, 3.482120718002649],\n",
       " [380, 3.1731088524165108],\n",
       " [434, 2.8884877208502293],\n",
       " [454, 3.7622954609381747],\n",
       " [457, 3.9979560967254857],\n",
       " [480, 3.3791604520804159],\n",
       " [500, 3.4839536441888219],\n",
       " [527, 4.1981847371100054],\n",
       " [539, 3.2441901556264199],\n",
       " [588, 3.6949412366855756],\n",
       " [589, 3.4196249919210726],\n",
       " [590, 3.4079276721158078],\n",
       " [592, 3.6059062863216167],\n",
       " [593, 4.0335985794839271],\n",
       " [595, 3.2419448003434383],\n",
       " [648, 3.3084623666717139],\n",
       " [733, 4.253299307806043],\n",
       " [736, 3.443042216038644],\n",
       " [780, 3.6329891363077635],\n",
       " [788, 2.9430878586104763],\n",
       " [805, 3.4943005641254148],\n",
       " [852, 3.5202349774244306],\n",
       " [858, 4.4184439974511553],\n",
       " [1073, 3.526567460467771],\n",
       " [1210, 3.3433224034556925],\n",
       " [1367, 3.2964656664656711],\n",
       " [2125, 4.1789951836324697],\n",
       " [2329, 4.3973642981543186],\n",
       " [2407, 2.8531205845948766],\n",
       " [2571, 4.4976239628420123],\n",
       " [2706, 2.8565030488141949],\n",
       " [2724, 2.8814889550612452],\n",
       " [2762, 4.5047373884794224],\n",
       " [2770, 2.9708463643941916],\n",
       " [2805, 2.5943531654465288],\n",
       " [2858, 4.3226336440390014],\n",
       " [2959, 4.4837116982847869],\n",
       " [4973, 3.8423350615179301],\n",
       " [58559, 4.6188921985243008],\n",
       " [79132, 4.6287834689259011]]"
      ]
     },
     "execution_count": 65,
     "metadata": {},
     "output_type": "execute_result"
    }
   ],
   "source": [
    "(predictRating(10, 50))"
   ]
  },
  {
   "cell_type": "code",
   "execution_count": 66,
   "metadata": {
    "collapsed": false
   },
   "outputs": [
    {
     "data": {
      "text/html": [
       "<div style=\"max-height:1000px;max-width:1500px;overflow:auto;\">\n",
       "<table border=\"1\" class=\"dataframe\">\n",
       "  <thead>\n",
       "    <tr style=\"text-align: right;\">\n",
       "      <th></th>\n",
       "      <th>rating</th>\n",
       "      <th>title</th>\n",
       "      <th>genres</th>\n",
       "      <th>movieId</th>\n",
       "    </tr>\n",
       "  </thead>\n",
       "  <tbody>\n",
       "    <tr>\n",
       "      <th>226</th>\n",
       "      <td> 5</td>\n",
       "      <td>                      M*A*S*H (a.k.a. MASH) (1970)</td>\n",
       "      <td>                  Comedy|Drama|War</td>\n",
       "      <td> 5060</td>\n",
       "    </tr>\n",
       "    <tr>\n",
       "      <th>45 </th>\n",
       "      <td> 5</td>\n",
       "      <td>                 E.T. the Extra-Terrestrial (1982)</td>\n",
       "      <td>             Children|Drama|Sci-Fi</td>\n",
       "      <td> 1097</td>\n",
       "    </tr>\n",
       "    <tr>\n",
       "      <th>30 </th>\n",
       "      <td> 5</td>\n",
       "      <td>                        Mission: Impossible (1996)</td>\n",
       "      <td> Action|Adventure|Mystery|Thriller</td>\n",
       "      <td>  648</td>\n",
       "    </tr>\n",
       "    <tr>\n",
       "      <th>33 </th>\n",
       "      <td> 5</td>\n",
       "      <td>              Independence Day (a.k.a. ID4) (1996)</td>\n",
       "      <td>  Action|Adventure|Sci-Fi|Thriller</td>\n",
       "      <td>  780</td>\n",
       "    </tr>\n",
       "    <tr>\n",
       "      <th>34 </th>\n",
       "      <td> 5</td>\n",
       "      <td>                             Godfather, The (1972)</td>\n",
       "      <td>                       Crime|Drama</td>\n",
       "      <td>  858</td>\n",
       "    </tr>\n",
       "    <tr>\n",
       "      <th>121</th>\n",
       "      <td> 5</td>\n",
       "      <td>                                Poltergeist (1982)</td>\n",
       "      <td>                   Horror|Thriller</td>\n",
       "      <td> 1994</td>\n",
       "    </tr>\n",
       "    <tr>\n",
       "      <th>202</th>\n",
       "      <td> 5</td>\n",
       "      <td>                                    Starman (1984)</td>\n",
       "      <td>    Adventure|Drama|Romance|Sci-Fi</td>\n",
       "      <td> 3699</td>\n",
       "    </tr>\n",
       "    <tr>\n",
       "      <th>...</th>\n",
       "      <td>...</td>\n",
       "      <td>...</td>\n",
       "      <td>...</td>\n",
       "      <td>...</td>\n",
       "    </tr>\n",
       "    <tr>\n",
       "      <th>28 </th>\n",
       "      <td> 5</td>\n",
       "      <td>                  Silence of the Lambs, The (1991)</td>\n",
       "      <td>             Crime|Horror|Thriller</td>\n",
       "      <td>  593</td>\n",
       "    </tr>\n",
       "    <tr>\n",
       "      <th>47 </th>\n",
       "      <td> 5</td>\n",
       "      <td>                       Escape from New York (1981)</td>\n",
       "      <td>  Action|Adventure|Sci-Fi|Thriller</td>\n",
       "      <td> 1129</td>\n",
       "    </tr>\n",
       "    <tr>\n",
       "      <th>118</th>\n",
       "      <td> 5</td>\n",
       "      <td>                                      Rocky (1976)</td>\n",
       "      <td>                             Drama</td>\n",
       "      <td> 1954</td>\n",
       "    </tr>\n",
       "    <tr>\n",
       "      <th>165</th>\n",
       "      <td> 5</td>\n",
       "      <td>                               Total Recall (1990)</td>\n",
       "      <td>  Action|Adventure|Sci-Fi|Thriller</td>\n",
       "      <td> 2916</td>\n",
       "    </tr>\n",
       "    <tr>\n",
       "      <th>52 </th>\n",
       "      <td> 5</td>\n",
       "      <td> Raiders of the Lost Ark (Indiana Jones and the...</td>\n",
       "      <td>                  Action|Adventure</td>\n",
       "      <td> 1198</td>\n",
       "    </tr>\n",
       "    <tr>\n",
       "      <th>196</th>\n",
       "      <td> 5</td>\n",
       "      <td>                               Marathon Man (1976)</td>\n",
       "      <td>              Crime|Drama|Thriller</td>\n",
       "      <td> 3551</td>\n",
       "    </tr>\n",
       "    <tr>\n",
       "      <th>71 </th>\n",
       "      <td> 5</td>\n",
       "      <td>                               Shining, The (1980)</td>\n",
       "      <td>                            Horror</td>\n",
       "      <td> 1258</td>\n",
       "    </tr>\n",
       "  </tbody>\n",
       "</table>\n",
       "<p>20 rows × 4 columns</p>\n",
       "</div>"
      ],
      "text/plain": [
       "     rating                                              title  \\\n",
       "226       5                       M*A*S*H (a.k.a. MASH) (1970)   \n",
       "45        5                  E.T. the Extra-Terrestrial (1982)   \n",
       "30        5                         Mission: Impossible (1996)   \n",
       "33        5               Independence Day (a.k.a. ID4) (1996)   \n",
       "34        5                              Godfather, The (1972)   \n",
       "121       5                                 Poltergeist (1982)   \n",
       "202       5                                     Starman (1984)   \n",
       "..      ...                                                ...   \n",
       "28        5                   Silence of the Lambs, The (1991)   \n",
       "47        5                        Escape from New York (1981)   \n",
       "118       5                                       Rocky (1976)   \n",
       "165       5                                Total Recall (1990)   \n",
       "52        5  Raiders of the Lost Ark (Indiana Jones and the...   \n",
       "196       5                                Marathon Man (1976)   \n",
       "71        5                                Shining, The (1980)   \n",
       "\n",
       "                                genres  movieId  \n",
       "226                   Comedy|Drama|War     5060  \n",
       "45               Children|Drama|Sci-Fi     1097  \n",
       "30   Action|Adventure|Mystery|Thriller      648  \n",
       "33    Action|Adventure|Sci-Fi|Thriller      780  \n",
       "34                         Crime|Drama      858  \n",
       "121                    Horror|Thriller     1994  \n",
       "202     Adventure|Drama|Romance|Sci-Fi     3699  \n",
       "..                                 ...      ...  \n",
       "28               Crime|Horror|Thriller      593  \n",
       "47    Action|Adventure|Sci-Fi|Thriller     1129  \n",
       "118                              Drama     1954  \n",
       "165   Action|Adventure|Sci-Fi|Thriller     2916  \n",
       "52                    Action|Adventure     1198  \n",
       "196               Crime|Drama|Thriller     3551  \n",
       "71                              Horror     1258  \n",
       "\n",
       "[20 rows x 4 columns]"
      ]
     },
     "execution_count": 66,
     "metadata": {},
     "output_type": "execute_result"
    }
   ],
   "source": [
    "## user의 별점 매긴 영화와 영화 정보 높은 별점순으로 보기 \n",
    "def ratingMovies(userid):\n",
    "    ds = pd.merge(ratings[ratings.userId==userid], movies, on=['movieId'])\n",
    "    return ds.sort(['rating'],ascending=False)[['rating','title','genres','movieId']].head(100)\n",
    "ratingMovies(1).head(20)"
   ]
  },
  {
   "cell_type": "code",
   "execution_count": 67,
   "metadata": {
    "collapsed": false
   },
   "outputs": [
    {
     "data": {
      "text/html": [
       "<div style=\"max-height:1000px;max-width:1500px;overflow:auto;\">\n",
       "<table border=\"1\" class=\"dataframe\">\n",
       "  <thead>\n",
       "    <tr style=\"text-align: right;\">\n",
       "      <th></th>\n",
       "      <th>movieId</th>\n",
       "      <th>title</th>\n",
       "      <th>genres</th>\n",
       "      <th>predicted_rating</th>\n",
       "    </tr>\n",
       "  </thead>\n",
       "  <tbody>\n",
       "    <tr>\n",
       "      <th>58</th>\n",
       "      <td> 1136</td>\n",
       "      <td>     Monty Python and the Holy Grail (1975)</td>\n",
       "      <td>  Adventure|Comedy|Fantasy</td>\n",
       "      <td> 4.793385</td>\n",
       "    </tr>\n",
       "    <tr>\n",
       "      <th>74</th>\n",
       "      <td> 3578</td>\n",
       "      <td>                           Gladiator (2000)</td>\n",
       "      <td>    Action|Adventure|Drama</td>\n",
       "      <td> 4.699613</td>\n",
       "    </tr>\n",
       "    <tr>\n",
       "      <th>8 </th>\n",
       "      <td>   50</td>\n",
       "      <td>                 Usual Suspects, The (1995)</td>\n",
       "      <td>    Crime|Mystery|Thriller</td>\n",
       "      <td> 4.672419</td>\n",
       "    </tr>\n",
       "    <tr>\n",
       "      <th>64</th>\n",
       "      <td> 2324</td>\n",
       "      <td> Life Is Beautiful (La Vita è bella) (1997)</td>\n",
       "      <td>  Comedy|Drama|Romance|War</td>\n",
       "      <td> 4.660577</td>\n",
       "    </tr>\n",
       "    <tr>\n",
       "      <th>71</th>\n",
       "      <td> 2858</td>\n",
       "      <td>                     American Beauty (1999)</td>\n",
       "      <td>              Comedy|Drama</td>\n",
       "      <td> 4.635780</td>\n",
       "    </tr>\n",
       "    <tr>\n",
       "      <th>48</th>\n",
       "      <td>  593</td>\n",
       "      <td>           Silence of the Lambs, The (1991)</td>\n",
       "      <td>     Crime|Horror|Thriller</td>\n",
       "      <td> 4.632719</td>\n",
       "    </tr>\n",
       "    <tr>\n",
       "      <th>60</th>\n",
       "      <td> 1221</td>\n",
       "      <td>             Godfather: Part II, The (1974)</td>\n",
       "      <td>               Crime|Drama</td>\n",
       "      <td> 4.509081</td>\n",
       "    </tr>\n",
       "    <tr>\n",
       "      <th>...</th>\n",
       "      <td>...</td>\n",
       "      <td>...</td>\n",
       "      <td>...</td>\n",
       "      <td>...</td>\n",
       "    </tr>\n",
       "    <tr>\n",
       "      <th>3 </th>\n",
       "      <td>   10</td>\n",
       "      <td>                           GoldenEye (1995)</td>\n",
       "      <td> Action|Adventure|Thriller</td>\n",
       "      <td> 2.910663</td>\n",
       "    </tr>\n",
       "    <tr>\n",
       "      <th>20</th>\n",
       "      <td>  208</td>\n",
       "      <td>                          Waterworld (1995)</td>\n",
       "      <td>   Action|Adventure|Sci-Fi</td>\n",
       "      <td> 2.856161</td>\n",
       "    </tr>\n",
       "    <tr>\n",
       "      <th>37</th>\n",
       "      <td>  434</td>\n",
       "      <td>                         Cliffhanger (1993)</td>\n",
       "      <td> Action|Adventure|Thriller</td>\n",
       "      <td> 2.852061</td>\n",
       "    </tr>\n",
       "    <tr>\n",
       "      <th>46</th>\n",
       "      <td>  590</td>\n",
       "      <td>                  Dances with Wolves (1990)</td>\n",
       "      <td>   Adventure|Drama|Western</td>\n",
       "      <td> 2.605731</td>\n",
       "    </tr>\n",
       "    <tr>\n",
       "      <th>32</th>\n",
       "      <td>  344</td>\n",
       "      <td>          Ace Ventura: Pet Detective (1994)</td>\n",
       "      <td>                    Comedy</td>\n",
       "      <td> 2.387978</td>\n",
       "    </tr>\n",
       "    <tr>\n",
       "      <th>70</th>\n",
       "      <td> 2770</td>\n",
       "      <td>                           Bowfinger (1999)</td>\n",
       "      <td>                    Comedy</td>\n",
       "      <td> 2.379597</td>\n",
       "    </tr>\n",
       "    <tr>\n",
       "      <th>21</th>\n",
       "      <td>  231</td>\n",
       "      <td>     Dumb &amp; Dumber (Dumb and Dumber) (1994)</td>\n",
       "      <td>          Adventure|Comedy</td>\n",
       "      <td> 2.012492</td>\n",
       "    </tr>\n",
       "  </tbody>\n",
       "</table>\n",
       "<p>79 rows × 4 columns</p>\n",
       "</div>"
      ],
      "text/plain": [
       "    movieId                                       title  \\\n",
       "58     1136      Monty Python and the Holy Grail (1975)   \n",
       "74     3578                            Gladiator (2000)   \n",
       "8        50                  Usual Suspects, The (1995)   \n",
       "64     2324  Life Is Beautiful (La Vita è bella) (1997)   \n",
       "71     2858                      American Beauty (1999)   \n",
       "48      593            Silence of the Lambs, The (1991)   \n",
       "60     1221              Godfather: Part II, The (1974)   \n",
       "..      ...                                         ...   \n",
       "3        10                            GoldenEye (1995)   \n",
       "20      208                           Waterworld (1995)   \n",
       "37      434                          Cliffhanger (1993)   \n",
       "46      590                   Dances with Wolves (1990)   \n",
       "32      344           Ace Ventura: Pet Detective (1994)   \n",
       "70     2770                            Bowfinger (1999)   \n",
       "21      231      Dumb & Dumber (Dumb and Dumber) (1994)   \n",
       "\n",
       "                       genres  predicted_rating  \n",
       "58   Adventure|Comedy|Fantasy          4.793385  \n",
       "74     Action|Adventure|Drama          4.699613  \n",
       "8      Crime|Mystery|Thriller          4.672419  \n",
       "64   Comedy|Drama|Romance|War          4.660577  \n",
       "71               Comedy|Drama          4.635780  \n",
       "48      Crime|Horror|Thriller          4.632719  \n",
       "60                Crime|Drama          4.509081  \n",
       "..                        ...               ...  \n",
       "3   Action|Adventure|Thriller          2.910663  \n",
       "20    Action|Adventure|Sci-Fi          2.856161  \n",
       "37  Action|Adventure|Thriller          2.852061  \n",
       "46    Adventure|Drama|Western          2.605731  \n",
       "32                     Comedy          2.387978  \n",
       "70                     Comedy          2.379597  \n",
       "21           Adventure|Comedy          2.012492  \n",
       "\n",
       "[79 rows x 4 columns]"
      ]
     },
     "execution_count": 67,
     "metadata": {},
     "output_type": "execute_result"
    }
   ],
   "source": [
    "def join_movie_info( predicted_result ):\n",
    "    predicted_ratings = pd.DataFrame(predicted_result, columns=['movieId', 'predicted_rating'])\n",
    "    result_ds = pd.merge( movies[movies.movieId > 0], predicted_ratings, on=['movieId'])\n",
    "    return result_ds.sort(['predicted_rating'], ascending=False)\n",
    "\n",
    "result = predictRating(1);\n",
    "join_movie_info(result)"
   ]
  },
  {
   "cell_type": "code",
   "execution_count": 68,
   "metadata": {
    "collapsed": false
   },
   "outputs": [
    {
     "data": {
      "text/html": [
       "<div style=\"max-height:1000px;max-width:1500px;overflow:auto;\">\n",
       "<table border=\"1\" class=\"dataframe\">\n",
       "  <thead>\n",
       "    <tr style=\"text-align: right;\">\n",
       "      <th></th>\n",
       "      <th>rating</th>\n",
       "      <th>title_x</th>\n",
       "      <th>genres_x</th>\n",
       "      <th>movieId</th>\n",
       "      <th>title_y</th>\n",
       "      <th>genres_y</th>\n",
       "      <th>predicted_rating</th>\n",
       "    </tr>\n",
       "  </thead>\n",
       "  <tbody>\n",
       "    <tr>\n",
       "      <th>15</th>\n",
       "      <td>  4</td>\n",
       "      <td> Monty Python and the Holy Grail (1975)</td>\n",
       "      <td> Adventure|Comedy|Fantasy</td>\n",
       "      <td> 1136</td>\n",
       "      <td>     Monty Python and the Holy Grail (1975)</td>\n",
       "      <td>  Adventure|Comedy|Fantasy</td>\n",
       "      <td> 4.793385</td>\n",
       "    </tr>\n",
       "    <tr>\n",
       "      <th>2 </th>\n",
       "      <td>  5</td>\n",
       "      <td>                       Gladiator (2000)</td>\n",
       "      <td>   Action|Adventure|Drama</td>\n",
       "      <td> 3578</td>\n",
       "      <td>                           Gladiator (2000)</td>\n",
       "      <td>    Action|Adventure|Drama</td>\n",
       "      <td> 4.699613</td>\n",
       "    </tr>\n",
       "    <tr>\n",
       "      <th>6 </th>\n",
       "      <td>  5</td>\n",
       "      <td>             Usual Suspects, The (1995)</td>\n",
       "      <td>   Crime|Mystery|Thriller</td>\n",
       "      <td>   50</td>\n",
       "      <td>                 Usual Suspects, The (1995)</td>\n",
       "      <td>    Crime|Mystery|Thriller</td>\n",
       "      <td> 4.672419</td>\n",
       "    </tr>\n",
       "    <tr>\n",
       "      <th>16</th>\n",
       "      <td>NaN</td>\n",
       "      <td>                                    NaN</td>\n",
       "      <td>                      NaN</td>\n",
       "      <td> 2324</td>\n",
       "      <td> Life Is Beautiful (La Vita è bella) (1997)</td>\n",
       "      <td>  Comedy|Drama|Romance|War</td>\n",
       "      <td> 4.660577</td>\n",
       "    </tr>\n",
       "    <tr>\n",
       "      <th>9 </th>\n",
       "      <td>  4</td>\n",
       "      <td>                 American Beauty (1999)</td>\n",
       "      <td>             Comedy|Drama</td>\n",
       "      <td> 2858</td>\n",
       "      <td>                     American Beauty (1999)</td>\n",
       "      <td>              Comedy|Drama</td>\n",
       "      <td> 4.635780</td>\n",
       "    </tr>\n",
       "    <tr>\n",
       "      <th>3 </th>\n",
       "      <td>  5</td>\n",
       "      <td>       Silence of the Lambs, The (1991)</td>\n",
       "      <td>    Crime|Horror|Thriller</td>\n",
       "      <td>  593</td>\n",
       "      <td>           Silence of the Lambs, The (1991)</td>\n",
       "      <td>     Crime|Horror|Thriller</td>\n",
       "      <td> 4.632719</td>\n",
       "    </tr>\n",
       "    <tr>\n",
       "      <th>4 </th>\n",
       "      <td>  5</td>\n",
       "      <td>         Godfather: Part II, The (1974)</td>\n",
       "      <td>              Crime|Drama</td>\n",
       "      <td> 1221</td>\n",
       "      <td>             Godfather: Part II, The (1974)</td>\n",
       "      <td>               Crime|Drama</td>\n",
       "      <td> 4.509081</td>\n",
       "    </tr>\n",
       "    <tr>\n",
       "      <th>...</th>\n",
       "      <td>...</td>\n",
       "      <td>...</td>\n",
       "      <td>...</td>\n",
       "      <td>...</td>\n",
       "      <td>...</td>\n",
       "      <td>...</td>\n",
       "      <td>...</td>\n",
       "    </tr>\n",
       "    <tr>\n",
       "      <th>72</th>\n",
       "      <td>NaN</td>\n",
       "      <td>                                    NaN</td>\n",
       "      <td>                      NaN</td>\n",
       "      <td>   10</td>\n",
       "      <td>                           GoldenEye (1995)</td>\n",
       "      <td> Action|Adventure|Thriller</td>\n",
       "      <td> 2.910663</td>\n",
       "    </tr>\n",
       "    <tr>\n",
       "      <th>73</th>\n",
       "      <td>NaN</td>\n",
       "      <td>                                    NaN</td>\n",
       "      <td>                      NaN</td>\n",
       "      <td>  208</td>\n",
       "      <td>                          Waterworld (1995)</td>\n",
       "      <td>   Action|Adventure|Sci-Fi</td>\n",
       "      <td> 2.856161</td>\n",
       "    </tr>\n",
       "    <tr>\n",
       "      <th>74</th>\n",
       "      <td>NaN</td>\n",
       "      <td>                                    NaN</td>\n",
       "      <td>                      NaN</td>\n",
       "      <td>  434</td>\n",
       "      <td>                         Cliffhanger (1993)</td>\n",
       "      <td> Action|Adventure|Thriller</td>\n",
       "      <td> 2.852061</td>\n",
       "    </tr>\n",
       "    <tr>\n",
       "      <th>75</th>\n",
       "      <td>NaN</td>\n",
       "      <td>                                    NaN</td>\n",
       "      <td>                      NaN</td>\n",
       "      <td>  590</td>\n",
       "      <td>                  Dances with Wolves (1990)</td>\n",
       "      <td>   Adventure|Drama|Western</td>\n",
       "      <td> 2.605731</td>\n",
       "    </tr>\n",
       "    <tr>\n",
       "      <th>76</th>\n",
       "      <td>NaN</td>\n",
       "      <td>                                    NaN</td>\n",
       "      <td>                      NaN</td>\n",
       "      <td>  344</td>\n",
       "      <td>          Ace Ventura: Pet Detective (1994)</td>\n",
       "      <td>                    Comedy</td>\n",
       "      <td> 2.387978</td>\n",
       "    </tr>\n",
       "    <tr>\n",
       "      <th>77</th>\n",
       "      <td>NaN</td>\n",
       "      <td>                                    NaN</td>\n",
       "      <td>                      NaN</td>\n",
       "      <td> 2770</td>\n",
       "      <td>                           Bowfinger (1999)</td>\n",
       "      <td>                    Comedy</td>\n",
       "      <td> 2.379597</td>\n",
       "    </tr>\n",
       "    <tr>\n",
       "      <th>78</th>\n",
       "      <td>NaN</td>\n",
       "      <td>                                    NaN</td>\n",
       "      <td>                      NaN</td>\n",
       "      <td>  231</td>\n",
       "      <td>     Dumb &amp; Dumber (Dumb and Dumber) (1994)</td>\n",
       "      <td>          Adventure|Comedy</td>\n",
       "      <td> 2.012492</td>\n",
       "    </tr>\n",
       "  </tbody>\n",
       "</table>\n",
       "<p>79 rows × 7 columns</p>\n",
       "</div>"
      ],
      "text/plain": [
       "    rating                                 title_x                  genres_x  \\\n",
       "15       4  Monty Python and the Holy Grail (1975)  Adventure|Comedy|Fantasy   \n",
       "2        5                        Gladiator (2000)    Action|Adventure|Drama   \n",
       "6        5              Usual Suspects, The (1995)    Crime|Mystery|Thriller   \n",
       "16     NaN                                     NaN                       NaN   \n",
       "9        4                  American Beauty (1999)              Comedy|Drama   \n",
       "3        5        Silence of the Lambs, The (1991)     Crime|Horror|Thriller   \n",
       "4        5          Godfather: Part II, The (1974)               Crime|Drama   \n",
       "..     ...                                     ...                       ...   \n",
       "72     NaN                                     NaN                       NaN   \n",
       "73     NaN                                     NaN                       NaN   \n",
       "74     NaN                                     NaN                       NaN   \n",
       "75     NaN                                     NaN                       NaN   \n",
       "76     NaN                                     NaN                       NaN   \n",
       "77     NaN                                     NaN                       NaN   \n",
       "78     NaN                                     NaN                       NaN   \n",
       "\n",
       "    movieId                                     title_y  \\\n",
       "15     1136      Monty Python and the Holy Grail (1975)   \n",
       "2      3578                            Gladiator (2000)   \n",
       "6        50                  Usual Suspects, The (1995)   \n",
       "16     2324  Life Is Beautiful (La Vita è bella) (1997)   \n",
       "9      2858                      American Beauty (1999)   \n",
       "3       593            Silence of the Lambs, The (1991)   \n",
       "4      1221              Godfather: Part II, The (1974)   \n",
       "..      ...                                         ...   \n",
       "72       10                            GoldenEye (1995)   \n",
       "73      208                           Waterworld (1995)   \n",
       "74      434                          Cliffhanger (1993)   \n",
       "75      590                   Dances with Wolves (1990)   \n",
       "76      344           Ace Ventura: Pet Detective (1994)   \n",
       "77     2770                            Bowfinger (1999)   \n",
       "78      231      Dumb & Dumber (Dumb and Dumber) (1994)   \n",
       "\n",
       "                     genres_y  predicted_rating  \n",
       "15   Adventure|Comedy|Fantasy          4.793385  \n",
       "2      Action|Adventure|Drama          4.699613  \n",
       "6      Crime|Mystery|Thriller          4.672419  \n",
       "16   Comedy|Drama|Romance|War          4.660577  \n",
       "9                Comedy|Drama          4.635780  \n",
       "3       Crime|Horror|Thriller          4.632719  \n",
       "4                 Crime|Drama          4.509081  \n",
       "..                        ...               ...  \n",
       "72  Action|Adventure|Thriller          2.910663  \n",
       "73    Action|Adventure|Sci-Fi          2.856161  \n",
       "74  Action|Adventure|Thriller          2.852061  \n",
       "75    Adventure|Drama|Western          2.605731  \n",
       "76                     Comedy          2.387978  \n",
       "77                     Comedy          2.379597  \n",
       "78           Adventure|Comedy          2.012492  \n",
       "\n",
       "[79 rows x 7 columns]"
      ]
     },
     "execution_count": 68,
     "metadata": {},
     "output_type": "execute_result"
    }
   ],
   "source": [
    "## 5번 유저의 별점 예측 \n",
    "userid=1\n",
    "pd.merge(ratingMovies(userid), join_movie_info(predictRating(userid)), on=['movieId'], how='right')\\\n",
    "    .sort(['predicted_rating'], ascending =False)\\"
   ]
  },
  {
   "cell_type": "code",
   "execution_count": 69,
   "metadata": {
    "collapsed": false
   },
   "outputs": [],
   "source": [
    "eval_ratings = ratings"
   ]
  },
  {
   "cell_type": "code",
   "execution_count": 70,
   "metadata": {
    "collapsed": false
   },
   "outputs": [],
   "source": [
    "# ratings['userId'].drop_duplicates().values[:]\n",
    "def eval_prediction( predict_users,  n_users=50 ):\n",
    "    ## evaluation\n",
    "    ds = pd.merge(eval_ratings, \n",
    "                       ratings[['movieId','rating']].groupby(['movieId']).mean().reset_index(), \n",
    "                       on='movieId', how='left')\n",
    "\n",
    "    ds = ds.rename(columns= {'rating_x':'rating', 'rating_y':'mean_rating'})\n",
    "\n",
    "    st = time.time()\n",
    "    ## udpate to predict_rating \n",
    "    distance_functions = [ ('euclidean',distance_euclidean), ('cosine', distance_cosine) ]\n",
    "    for name, func in distance_functions:\n",
    "        ds[name] = 0\n",
    "        for userId in predict_users:\n",
    "            for x in predictRating(userId, n_users, func):\n",
    "                ds.loc[(ds.userId==userId) & (ds.movieId==x[0]),name]=x[1]\n",
    "    print('elapsed', round(time.time()-st,2), 'sec')\n",
    "    return ds[ds.euclidean+ds.cosine>0]"
   ]
  },
  {
   "cell_type": "code",
   "execution_count": 71,
   "metadata": {
    "collapsed": false
   },
   "outputs": [],
   "source": [
    "## 전체 userId list \n",
    "users = UM_matrix_ds.index.tolist()"
   ]
  },
  {
   "cell_type": "code",
   "execution_count": 72,
   "metadata": {
    "collapsed": false
   },
   "outputs": [
    {
     "data": {
      "text/plain": [
       "[1, 2]"
      ]
     },
     "execution_count": 72,
     "metadata": {},
     "output_type": "execute_result"
    }
   ],
   "source": [
    "users[:2]"
   ]
  },
  {
   "cell_type": "code",
   "execution_count": 73,
   "metadata": {
    "collapsed": false
   },
   "outputs": [
    {
     "name": "stdout",
     "output_type": "stream",
     "text": [
      "elapsed 7.5 sec\n"
     ]
    }
   ],
   "source": [
    "## 10명 별점 예측\n",
    "predicted = eval_prediction(users[:2], 100 )"
   ]
  },
  {
   "cell_type": "code",
   "execution_count": 80,
   "metadata": {
    "collapsed": false
   },
   "outputs": [],
   "source": [
    "predicted = predicted[ (predicted['cosine'] > 0) & (predicted['euclidean'] > 0) ]"
   ]
  },
  {
   "cell_type": "code",
   "execution_count": 81,
   "metadata": {
    "collapsed": true
   },
   "outputs": [],
   "source": [
    "def RMSE(X, left_col, right_col):\n",
    "    return(np.sqrt(np.mean( (X[left_col] - X[right_col])**2 )))\n",
    "\n",
    "def MAE(X, left_col, right_col):\n",
    "    return(np.mean(np.absolute(X[left_col] - X[right_col])) )"
   ]
  },
  {
   "cell_type": "code",
   "execution_count": 87,
   "metadata": {
    "collapsed": false
   },
   "outputs": [
    {
     "data": {
      "text/plain": [
       "0.50124020088345789"
      ]
     },
     "execution_count": 87,
     "metadata": {},
     "output_type": "execute_result"
    }
   ],
   "source": [
    "MAE( predicted, 'rating', 'cosine')"
   ]
  },
  {
   "cell_type": "code",
   "execution_count": 88,
   "metadata": {
    "collapsed": false
   },
   "outputs": [
    {
     "data": {
      "text/plain": [
       "0.43223181067073418"
      ]
     },
     "execution_count": 88,
     "metadata": {},
     "output_type": "execute_result"
    }
   ],
   "source": [
    "MAE( predicted, 'rating', 'euclidean')"
   ]
  },
  {
   "cell_type": "code",
   "execution_count": 89,
   "metadata": {
    "collapsed": false
   },
   "outputs": [
    {
     "data": {
      "text/plain": [
       "0.71598663772940452"
      ]
     },
     "execution_count": 89,
     "metadata": {},
     "output_type": "execute_result"
    }
   ],
   "source": [
    "MAE( predicted, 'rating', 'mean_rating')"
   ]
  },
  {
   "cell_type": "code",
   "execution_count": 91,
   "metadata": {
    "collapsed": false
   },
   "outputs": [
    {
     "name": "stdout",
     "output_type": "stream",
     "text": [
      "MAE of mean_rating is 0.715986637729 \n",
      "MAE of cosine is 0.501240200883 \n",
      "MAE of euclidean is 0.432231810671 \n",
      "RMSE of mean_rating is 0.861539963449 \n",
      "RMSE of cosine is 0.593503147367 \n",
      "RMSE of euclidean is 0.522094960976 \n"
     ]
    }
   ],
   "source": [
    "for name in ['mean_rating', 'cosine', 'euclidean']:\n",
    "    print (\"MAE of {0} is {1} \".format(name, MAE( predicted, 'rating', name )))\n",
    "\n",
    "for name in ['mean_rating', 'cosine', 'euclidean']:\n",
    "    print (\"RMSE of {0} is {1} \".format(name, RMSE( predicted, 'rating', name )))"
   ]
  },
  {
   "cell_type": "code",
   "execution_count": 33,
   "metadata": {
    "collapsed": false
   },
   "outputs": [
    {
     "name": "stdout",
     "output_type": "stream",
     "text": [
      "elapsed 3.33 sec\n"
     ]
    }
   ],
   "source": [
    "predicted = eval_prediction(users[:2], 20 )"
   ]
  },
  {
   "cell_type": "code",
   "execution_count": null,
   "metadata": {
    "collapsed": true
   },
   "outputs": [],
   "source": []
  }
 ],
 "metadata": {
  "kernelspec": {
   "display_name": "Python 2",
   "language": "python",
   "name": "python2"
  },
  "language_info": {
   "name": "python",
   "version": "2.7.9"
  }
 },
 "nbformat": 4,
 "nbformat_minor": 0
}
