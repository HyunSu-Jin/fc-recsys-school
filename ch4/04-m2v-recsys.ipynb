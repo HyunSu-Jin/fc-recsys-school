{
 "cells": [
  {
   "cell_type": "markdown",
   "metadata": {},
   "source": [
    "## word2vec으로 추천 시스템 구현하기 "
   ]
  },
  {
   "cell_type": "code",
   "execution_count": 22,
   "metadata": {
    "collapsed": false
   },
   "outputs": [],
   "source": [
    "from gensim.models import Word2Vec\n",
    "import pandas as pd\n",
    "from collections import defaultdict\n",
    "import numpy as np\n",
    "from __future__ import print_function"
   ]
  },
  {
   "cell_type": "code",
   "execution_count": 2,
   "metadata": {
    "collapsed": false,
    "scrolled": false
   },
   "outputs": [],
   "source": [
    "## string to int with ignore none disit\n",
    "def toint(s,default=0):\n",
    "    converted = default\n",
    "    try :\n",
    "        converted = int(s)\n",
    "    except:\n",
    "        #print('string convert exception \"{0}\" (default={1})\"'.format(s , default))\n",
    "        pass\n",
    "    return converted\n",
    "\n",
    "class m2v_recsys:\n",
    "    model = None\n",
    "    home_dir = '/Users/goodvc/Documents/data-analytics/movie-recommendation/'\n",
    "    w2v_env = { 'min_count':5, 'size':100, 'window':5 }\n",
    "    nn_func = None\n",
    "\n",
    "    ## initialize\n",
    "    def __init__(self, ds_type='ml-latest-small'):\n",
    "        self.ds_type = ds_type\n",
    "        self.movieLensDataLoad()\n",
    "\n",
    "    ## dataset load\n",
    "    def movieLensDataLoad(self, ds_type=None):\n",
    "        if ds_type != None:\n",
    "            self.ds_type = ds_type\n",
    "        ## user 영화 별점 data \n",
    "        self.ratings = pd.read_csv('{home}/{type}/{name}'.format( home=self.home_dir, type=self.ds_type, name='ratings.csv'))\n",
    "\n",
    "        ## movie meta(타이트,장르) data \n",
    "        self.movies = pd.read_csv('{home}/{type}/{name}'.format( home=self.home_dir, type=self.ds_type, name='movies.csv'))\n",
    "        ## split title and release year . ex) Nixon (1995) => Nixon , 1995\n",
    "        self.movies['year'] = self.movies['title'].apply(lambda x: toint(x.strip()[-5:-1], 1950))\n",
    "        self.movies['title'] = self.movies['title'].apply(lambda x: x[:-7].strip())\n",
    "        \n",
    "        ## user가 영화에 tag를 기입한 data\n",
    "        self.tags = pd.read_csv('{home}/{type}/{name}'.format( home=self.home_dir, type=self.ds_type, name='tags.csv'))\n",
    "\n",
    "        ## join ratings and movies by movieId \n",
    "        self.ratings_movie = pd.merge( self.ratings, self.movies, on='movieId' )\n",
    "        \n",
    "    def make_sentences(self, threshold=3):\n",
    "        ## corpus를 만듦\n",
    "        corpus = []\n",
    "        grouped = self.ratings_movie[self.ratings_movie.rating>=threshold].groupby(['userId'])\n",
    "        for idx, user in grouped:\n",
    "            corpus.append (user.sort(['timestamp'])['title'].tolist())\n",
    "        return corpus\n",
    "        \n",
    "    def load_model(self, model_path):\n",
    "        self.model = Word2Vec.load(model_path)\n",
    "        print('model loaded', model_path)\n",
    "        \n",
    "    def save_model(self, model_path):\n",
    "        self.model.save(model_path)\n",
    "        \n",
    "    def training(self):\n",
    "        if self.model == None :\n",
    "            self.scentences = self.make_sentences()\n",
    "            self.model = Word2Vec(self.scentences, \n",
    "                                  min_count = self.w2v_env['min_count'],\n",
    "                                  size = self.w2v_env['size'], \n",
    "                                  window = self.w2v_env['window'])\n",
    "            print('model trained')\n",
    "            \n",
    "    def nearest_neighbors_by_m2v(self, target, topn=10):\n",
    "        if str == type(target):\n",
    "            target=[target]\n",
    "        result = []\n",
    "        try:\n",
    "            result = self.model.most_similar(positive=target, topn=topn)\n",
    "        except:\n",
    "            pass\n",
    "        return result\n",
    "\n",
    "    def user_interests(self, userId):\n",
    "        return self.ratings_movie[self.ratings_movie.userId==userId][['title','rating']].values.tolist()\n",
    "    \n",
    "    def cal_score(self, title, sim, rating, pre_score):\n",
    "        score = np.linalg.norm([sim, rating/5])\n",
    "        score = score+pre_score\n",
    "        return score\n",
    "    \n",
    "    def recommend_movies(self, userId, topn=10):\n",
    "        movies = defaultdict(float)\n",
    "        interests = self.user_interests(userId)\n",
    "        seenMovies = set( m for m,s in interests )\n",
    "        for title, rating in interests:\n",
    "            neighbors = self.nearest_neighbors_by_m2v(title)\n",
    "            for (title2, sim) in neighbors:\n",
    "                if title2 in seenMovies:\n",
    "                    continue\n",
    "                pre = movies.get(title2, 0.0)\n",
    "                movies[title2] = self.cal_score( title2, sim, rating, pre ) \n",
    "        \n",
    "        \n",
    "        return {'recommended' : sorted(movies.items(), key=lambda x: x[1], reverse=True)[:topn]\n",
    "                ,'ratings':interests}"
   ]
  },
  {
   "cell_type": "code",
   "execution_count": 26,
   "metadata": {
    "collapsed": false
   },
   "outputs": [],
   "source": [
    "## 객채생성\n",
    "#m2v_rs = m2v_recsys('ml-20m')\n",
    "m2v_rs = m2v_recsys('ml-latest-small')"
   ]
  },
  {
   "cell_type": "code",
   "execution_count": 27,
   "metadata": {
    "collapsed": false
   },
   "outputs": [
    {
     "name": "stdout",
     "output_type": "stream",
     "text": [
      "model trained\n"
     ]
    }
   ],
   "source": [
    "## training word2vec by dataset  \n",
    "m2v_rs.training()"
   ]
  },
  {
   "cell_type": "code",
   "execution_count": 28,
   "metadata": {
    "collapsed": true
   },
   "outputs": [],
   "source": [
    "## 현재 모델 save \n",
    "m2v_rs.save_model('./resource/m2v_small_rs.model')"
   ]
  },
  {
   "cell_type": "code",
   "execution_count": 29,
   "metadata": {
    "collapsed": false
   },
   "outputs": [
    {
     "name": "stdout",
     "output_type": "stream",
     "text": [
      "('model loaded', './resource/m2v_small_rs.model')\n"
     ]
    }
   ],
   "source": [
    "## model load by stored model \n",
    "m2v_rs.load_model('./resource/m2v_small_rs.model')"
   ]
  },
  {
   "cell_type": "code",
   "execution_count": 30,
   "metadata": {
    "collapsed": false
   },
   "outputs": [
    {
     "data": {
      "text/plain": [
       "[('Ghost', 0.9997854232788086),\n",
       " ('Disclosure', 0.9996465444564819),\n",
       " ('Get Shorty', 0.9988297820091248),\n",
       " ('Sleepless in Seattle', 0.998803973197937),\n",
       " ('Clueless', 0.9983817934989929),\n",
       " ('Four Weddings and a Funeral', 0.9983331561088562),\n",
       " ('Babe', 0.9982548952102661),\n",
       " ('Santa Clause, The', 0.9975646138191223),\n",
       " ('Legends of the Fall', 0.9975560903549194),\n",
       " ('Addams Family Values', 0.9973928332328796),\n",
       " ('Mask, The', 0.9971521496772766),\n",
       " ('Mrs. Doubtfire', 0.997077465057373),\n",
       " ('Saving Private Ryan', 0.9968827962875366),\n",
       " ('Ace Ventura: When Nature Calls', 0.9968212842941284),\n",
       " ('Birdcage, The', 0.9964831471443176),\n",
       " ('Beverly Hills Cop III', 0.9964747428894043),\n",
       " ('E.T. the Extra-Terrestrial', 0.9964015483856201),\n",
       " ('Usual Suspects, The', 0.9961400628089905),\n",
       " ('Broken Arrow', 0.9959720373153687),\n",
       " ('Men in Black (a.k.a. MIB)', 0.9957752227783203)]"
      ]
     },
     "execution_count": 30,
     "metadata": {},
     "output_type": "execute_result"
    }
   ],
   "source": [
    "## 유사한 영화 \n",
    "m2v_rs.nearest_neighbors_by_m2v(['Pretty Woman'],topn=20)"
   ]
  },
  {
   "cell_type": "code",
   "execution_count": 31,
   "metadata": {
    "collapsed": false
   },
   "outputs": [
    {
     "name": "stdout",
     "output_type": "stream",
     "text": [
      "------------------------------\n",
      "* 추천영화\n",
      " [('Hamlet', 50.895365502762331), (\"William Shakespeare's Romeo + Juliet\", 42.190276807646711), ('Thomas Crown Affair, The', 39.869563068839646), ('King Kong', 39.088502755655455), ('Truman Show, The', 33.825384453613552), ('Children of Men', 28.040616273577253), ('Jungle Book, The', 24.47952503543377), ('28 Days Later', 23.896016834401067), ('Little Miss Sunshine', 23.503357292616609), ('Who Framed Roger Rabbit?', 22.670114185988822)]\n",
      "------------------------------\n",
      "* 별점 매긴영화\n",
      " [['Usual Suspects, The', 5.0], ['Braveheart', 3.5], ['Star Wars: Episode IV - A New Hope', 2.5], ['Pulp Fiction', 4.0], ['Shawshank Redemption, The', 3.5], [\"Schindler's List\", 4.0], ['Blade Runner', 4.0], ['Tombstone', 4.0], ['Terminator 2: Judgment Day', 3.5], ['Batman', 4.0], ['Silence of the Lambs, The', 3.5], ['Fargo', 3.0], ['Dr. Strangelove or: How I Learned to Stop Worrying and Love the Bomb', 4.5], ['Godfather, The', 4.5], ['Maltese Falcon, The', 3.5], ['Reservoir Dogs', 3.5], ['Star Wars: Episode V - The Empire Strikes Back', 3.5], ['Princess Bride, The', 4.5], ['Raiders of the Lost Ark (Indiana Jones and the Raiders of the Lost Ark)', 4.0], ['Good, the Bad and the Ugly, The (Buono, il brutto, il cattivo, Il)', 4.5], ['Clockwork Orange, A', 3.0], ['Apocalypse Now', 4.5], ['Psycho', 3.0], ['Terminator, The', 3.5], ['Chinatown', 4.0], ['Better Off Dead...', 3.5], ['Shining, The', 4.0], ['Stand by Me', 4.0], ['Groundhog Day', 3.5], ['Unforgiven', 4.5], ['Cool Hand Luke', 4.0], ['Young Frankenstein', 4.5], ['High Noon', 4.0], ['Indiana Jones and the Last Crusade', 4.0], ['Butch Cassidy and the Sundance Kid', 4.0], ['Sling Blade', 4.0], ['Star Trek IV: The Voyage Home', 2.0], ['Jaws', 3.5], ['Raising Arizona', 4.5], ['Grosse Pointe Blank', 5.0], ['L.A. Confidential', 4.0], ['Big Lebowski, The', 5.0], ['Exorcist, The', 3.5], ['Untouchables, The', 3.5], ['Say Anything...', 3.5], ['Lock, Stock & Two Smoking Barrels', 4.0], ['Matrix, The', 4.5], ['Go', 3.5], ['Run Lola Run (Lola rennt)', 4.0], ['Ghostbusters (a.k.a. Ghost Busters)', 3.5], ['Christmas Story, A', 4.0], ['American Beauty', 4.5], ['Limey, The', 4.0], ['Goldfinger', 3.5], ['From Russia with Love', 3.5], ['Fistful of Dollars, A (Per un pugno di dollari)', 4.0], ['Time Bandits', 4.5], ['American Graffiti', 4.0], ['JFK', 4.0], ['Do the Right Thing', 4.0], ['Diner', 3.0], ['Gladiator', 3.0], ['For a Few Dollars More (Per qualche dollaro in pi\\xc3\\xb9)', 4.0], ['X-Men', 2.5], ['Big Easy, The', 2.0], ['M*A*S*H (a.k.a. MASH)', 3.5], ['Highlander', 4.0], ['Gattaca', 4.0], [\"There's Something About Mary\", 3.0], ['Shakespeare in Love', 3.5], ['Romancing the Stone', 2.5], ['River Runs Through It, A', 3.5], ['Crouching Tiger, Hidden Dragon (Wo hu cang long)', 4.0], ['Lord of the Rings: The Return of the King, The', 4.0], ['To Die For', 4.5], ['Like Water for Chocolate (Como agua para chocolate)', 4.0], ['Rebecca', 3.0], ['Bringing Up Baby', 3.5], ['Alice in Wonderland', 3.0], ['Sound of Music, The', 1.5], ['Rosencrantz and Guildenstern Are Dead', 4.5], ['Graduate, The', 4.0], ['Fantasia', 4.5], ['Heathers', 3.0], ['Real Genius', 4.5], ['Chasing Amy', 5.0], ['Wag the Dog', 3.5], ['Honey, I Shrunk the Kids', 2.0], ['Desperado', 4.0], ['North by Northwest', 4.0], ['Dead Poets Society', 3.0], ['This Is Spinal Tap', 4.5], ['Rain Man', 3.5], ['Being John Malkovich', 3.5], ['High Fidelity', 4.5], ['Almost Famous', 4.0], ['Chocolat', 3.5], ['Shrek', 3.5], ['Lord of the Rings: The Fellowship of the Ring, The', 4.0], ['Lord of the Rings: The Two Towers, The', 4.5], ['Lost in Translation', 4.0], ['Fight Club', 5.0], ['Sixth Sense, The', 4.0], ['Monsters, Inc.', 4.0], ['Toy Story', 4.0], ['Seven (a.k.a. Se7en)', 3.5], ['Immortal Beloved', 2.5], ['L\\xc3\\xa9on: The Professional (a.k.a. The Professional) (L\\xc3\\xa9on)', 4.0], ['Crow, The', 2.0], ['Four Weddings and a Funeral', 3.5], ['Naked Gun 33 1/3: The Final Insult', 3.0], ['Firm, The', 3.5], ['Hudsucker Proxy, The', 3.5], ['Madness of King George, The', 4.0], ['Platoon', 2.5], ['Goodfellas', 4.5], ['Amadeus', 3.5], ['Ronin', 4.0], [\"Ferris Bueller's Day Off\", 3.5], ['Dr. No', 3.5], ['Scent of a Woman', 3.5], ['Hoop Dreams', 3.5], ['Quiz Show', 4.5], ['Philadelphia', 2.0], ['Bonnie and Clyde', 3.5], ['Glengarry Glen Ross', 4.0], ['Return of the Pink Panther, The', 3.0], ['Umbrellas of Cherbourg, The (Parapluies de Cherbourg, Les)', 1.5], ['Before Sunrise', 4.0], ['Clerks', 5.0], ['Short Cuts', 4.5], ['Nightmare Before Christmas, The', 4.5], ['Trainspotting', 4.0], [\"Breakfast at Tiffany's\", 4.0], ['Citizen Kane', 4.0], ['Spellbound', 3.5], ['Looking for Richard', 4.0], ['Swingers', 2.0], ['Fish Called Wanda, A', 4.0], [\"Monty Python's Life of Brian\", 4.0], ['Rebel Without a Cause', 4.0], ['People vs. Larry Flynt, The', 3.0], ['Wallace & Gromit: The Wrong Trousers', 3.5], ['Bob Roberts', 4.5], ['Grifters, The', 3.5], ['Strictly Ballroom', 4.5], ['12 Angry Men', 4.0], ['Lawrence of Arabia', 4.0], ['Grand Day Out with Wallace and Gromit, A', 3.5], ['Henry V', 3.5], ['Raging Bull', 4.0], ['Right Stuff, The', 4.0], ['Touch of Evil', 4.0], ['Arsenic and Old Lace', 3.5], ['Akira', 4.5], ['Koyaanisqatsi (a.k.a. Koyaanisqatsi: Life Out of Balance)', 4.0], ['Cape Fear', 3.5], ['Omen, The', 3.5], ['Waiting for Guffman', 3.5], ['Austin Powers: International Man of Mystery', 3.5], ['Full Monty, The', 4.0], ['Mrs. Brown (a.k.a. Her Majesty, Mrs. Brown)', 3.5], ['Stripes', 3.5], ['Boogie Nights', 4.0], ['Good Will Hunting', 4.0], ['Opposite of Sex, The', 3.5], ['Pi', 4.5], ['On the Waterfront', 4.0], ['Seven Samurai (Shichinin no samurai)', 3.5], ['L.A. Story', 5.0], ['Sixteen Candles', 3.0], [\"Rosemary's Baby\", 3.5], ['Beetlejuice', 3.5], ['Trouble with Harry, The', 4.0], ['Rounders', 4.5], ['Player, The', 4.5], ['Producers, The', 2.5], ['Nashville', 4.0], ['Pleasantville', 4.5], ['American History X', 4.5], ['Waking Ned Devine (a.k.a. Waking Ned)', 3.5], ['Fletch', 3.5], ['Color of Money, The', 3.5], ['Office Space', 3.0], ['Election', 4.5], ['Arachnophobia', 2.5], ['South Park: Bigger, Longer and Uncut', 4.5], [\"National Lampoon's Vacation\", 3.5], ['Deliverance', 3.5], ['Three Kings', 4.0], ['Help!', 3.5], ['Thunderball', 3.0], ['Princess Mononoke (Mononoke-hime)', 3.5], ['Dogma', 4.5], ['Natural, The', 4.0], ['Fisher King, The', 3.5], ['Sweet and Lowdown', 4.0], ['Fast Times at Ridgemont High', 3.5], [\"Wayne's World\", 3.5], ['Singles', 3.0], ['Mariachi, El', 3.5], ['Of Mice and Men', 3.0], ['Wonder Boys', 4.0], ['Hoosiers (a.k.a. Best Shot)', 5.0], ['Bull Durham', 4.0], ['Muppet Movie, The', 4.5], ['Animal House', 4.0], ['Good Morning, Vietnam', 2.5], ['Hustler, The', 4.5], ['Network', 4.0], ['Caddyshack', 4.0], [\"Pee-wee's Big Adventure\", 3.5], ['Blazing Saddles', 4.0], ['Chicken Run', 4.0], ['Best in Show', 4.0], ['Unbreakable', 3.0], ['Talk Radio', 3.0], ['Snatch', 4.5], ['O Brother, Where Art Thou?', 4.5], ['Traffic', 4.5], ['Shadow of the Vampire', 1.5], ['Eddie Murphy Raw', 4.0], ['Memento', 4.0], ['World According to Garp, The', 1.0], ['5,000 Fingers of Dr. T, The', 4.0], ['Mulholland Drive', 2.5], ['Dirty Harry', 3.0], ['Royal Tenenbaums, The', 4.5], ['Gosford Park', 4.0], ['Slap Shot', 3.5], ['Spider-Man', 4.0], ['Bourne Identity, The', 4.0], ['Minority Report', 4.0], ['Road to Perdition', 4.0], ['Secretary', 4.0], ['Spirited Away (Sen to Chihiro no kamikakushi)', 4.5], ['Bowling for Columbine', 4.0], ['Punch-Drunk Love', 5.0], ['Ring, The', 4.0], ['Professional, The (Le professionnel)', 4.0], ['Far from Heaven', 4.0], ['Standing in the Shadows of Motown', 3.0], ['Adaptation', 3.5], ['About Schmidt', 1.5], ['Catch Me If You Can', 3.5], ['Confessions of a Dangerous Mind', 3.5], ['Monty Python Live at the Hollywood Bowl', 3.5], ['Mighty Wind, A', 2.5], ['I Am Trying to Break Your Heart', 4.5], ['Spellbound', 3.5], ['X2: X-Men United', 4.0], ['Pirates of the Caribbean: The Curse of the Black Pearl', 3.5], ['Bubba Ho-tep', 4.0], ['Triplets of Belleville, The (Les triplettes de Belleville)', 4.5], ['Avalon', 2.5], [\"Monty Python's The Meaning of Life\", 3.5], ['Mystic River', 4.0], ['Kill Bill: Vol. 1', 4.5], ['21 Grams', 4.0], ['Freshman, The', 4.5], ['Shot in the Dark, A', 4.5], ['Hero (Ying xiong)', 5.0], ['Cooler, The', 4.0], ['Fog of War: Eleven Lessons from the Life of Robert S. McNamara, The', 4.5], ['Touching the Void', 4.5], ['Eternal Sunshine of the Spotless Mind', 4.5], ['Dogville', 4.5], ['Kill Bill: Vol. 2', 3.5], ['You Only Live Twice', 2.5], ['Pat Garrett and Billy the Kid', 4.0], [\"Baadasssss! (How to Get the Man's Foot Outta Your Ass)\", 3.5], ['Harry Potter and the Prisoner of Azkaban', 4.0], ['Super Size Me', 4.0], ['Fahrenheit 9/11', 4.0], ['Spider-Man 2', 4.0], ['Bourne Supremacy, The', 3.5], ['Harold and Kumar Go to White Castle', 4.5], ['Shaun of the Dead', 3.5], ['Sideways', 2.0], ['House of Flying Daggers (Shi mian mai fu)', 4.0], [\"Lemony Snicket's A Series of Unfortunate Events\", 3.5], ['Life Aquatic with Steve Zissou, The', 4.0], ['Upside of Anger, The', 4.0], ['Sin City', 4.5]]\n"
     ]
    }
   ],
   "source": [
    "ret = m2v_rs.recommend_movies(10,topn=10)\n",
    "print('------------------------------')\n",
    "print('* 추천영화\\n', ret['recommended'])\n",
    "print('------------------------------')\n",
    "print('* 별점 매긴영화\\n', ret['ratings'])"
   ]
  },
  {
   "cell_type": "markdown",
   "metadata": {},
   "source": [
    "## 2000만건 데이터셋으로 학습하기 "
   ]
  },
  {
   "cell_type": "code",
   "execution_count": 32,
   "metadata": {
    "collapsed": false
   },
   "outputs": [
    {
     "data": {
      "text/plain": [
       "\"\\nm2v_rs = m2v_recsys('ml-20m')\\nm2v_rs.training()\\nm2v_rs.save_model('./resource/m2v_20m_rs.model')\\n\""
      ]
     },
     "execution_count": 32,
     "metadata": {},
     "output_type": "execute_result"
    }
   ],
   "source": [
    "\"\"\"\n",
    "m2v_rs = m2v_recsys('ml-20m')\n",
    "m2v_rs.training()\n",
    "m2v_rs.save_model('./resource/m2v_20m_rs.model')\n",
    "\"\"\""
   ]
  },
  {
   "cell_type": "code",
   "execution_count": 37,
   "metadata": {
    "collapsed": false
   },
   "outputs": [
    {
     "name": "stdout",
     "output_type": "stream",
     "text": [
      "('model loaded', './resource/m2v_20m_rs.model')\n"
     ]
    }
   ],
   "source": [
    "m2v_rs_ml20 = m2v_recsys('ml-20m')\n",
    "m2v_rs_ml20.load_model('./resource/m2v_20m_rs.model')"
   ]
  },
  {
   "cell_type": "code",
   "execution_count": 38,
   "metadata": {
    "collapsed": false
   },
   "outputs": [
    {
     "data": {
      "text/plain": [
       "[('Mrs. Doubtfire', 0.6727120876312256),\n",
       " ('Four Weddings and a Funeral', 0.6044284701347351),\n",
       " ('Sleepless in Seattle', 0.5985074043273926),\n",
       " ('Ghost', 0.5417937636375427),\n",
       " ('Clueless', 0.5165965557098389),\n",
       " ('Titanic', 0.5129855871200562),\n",
       " ('Mask, The', 0.5024983882904053),\n",
       " ('Dave', 0.4821922779083252),\n",
       " ('American President, The', 0.4737176299095154),\n",
       " ('Dumb & Dumber (Dumb and Dumber)', 0.47182410955429077)]"
      ]
     },
     "execution_count": 38,
     "metadata": {},
     "output_type": "execute_result"
    }
   ],
   "source": [
    "## 유사한 영화 ml-20m기준 \n",
    "m2v_rs_ml20.nearest_neighbors_by_m2v(['Pretty Woman'], topn=10)"
   ]
  },
  {
   "cell_type": "code",
   "execution_count": 35,
   "metadata": {
    "collapsed": false
   },
   "outputs": [
    {
     "name": "stdout",
     "output_type": "stream",
     "text": [
      "unique userid cnt 138493\n"
     ]
    }
   ],
   "source": [
    "print('unique userid cnt',len(m2v_rs_ml20.ratings['userId'].unique()))"
   ]
  },
  {
   "cell_type": "code",
   "execution_count": 36,
   "metadata": {
    "collapsed": false,
    "scrolled": false
   },
   "outputs": [
    {
     "name": "stdout",
     "output_type": "stream",
     "text": [
      "추천영화\n",
      " [('Seven (a.k.a. Se7en)', 7.2260491114418031), ('Saving Private Ryan', 7.200722952068018), ('Taxi Driver', 6.0107027938286741), ('Goodfellas', 5.1691446122487887), ('Flirting With Disaster', 4.1941259035653848), ('Waterworld', 4.092605050917566), ('Outbreak', 4.0780340695081598), ('Piano, The', 3.8825274359053941), ('Much Ado About Nothing', 3.805156619895774), (\"Nobody's Fool\", 3.5656547719958649)]\n",
      "**********************************\n",
      "별점 매긴영화\n",
      " [['Twelve Monkeys (a.k.a. 12 Monkeys)', 3.0], ['Usual Suspects, The', 5.0], ['Clerks', 4.0], ['Star Wars: Episode IV - A New Hope', 4.0], ['L\\xc3\\xa9on: The Professional (a.k.a. The Professional) (L\\xc3\\xa9on)', 5.0], ['Pulp Fiction', 4.0], ['Shawshank Redemption, The', 3.0], [\"What's Eating Gilbert Grape\", 3.0], ['Terminator 2: Judgment Day', 3.0], ['Silence of the Lambs, The', 4.0], ['From Dusk Till Dawn', 3.0], ['Star Wars: Episode VI - Return of the Jedi', 4.0], ['Star Trek: Generations', 3.0], ['Heavy Metal', 4.0], ['Independence Day (a.k.a. ID4)', 3.0], ['Forrest Gump', 4.0], [\"Carlito's Way\", 3.0], ['Home Alone', 1.0], ['Ed Wood', 4.0], ['Mrs. Doubtfire', 2.0], ['Philadelphia', 3.0], ['Ghost', 3.0], ['Fargo', 4.0], ['Truth About Cats & Dogs, The', 4.0], ['While You Were Sleeping', 3.0], ['Waiting for Guffman', 5.0], ['Clueless', 3.0], ['Crimson Tide', 3.0], ['Net, The', 2.0], ['Natural Born Killers', 4.0], ['Ace Ventura: Pet Detective', 3.0], ['Cliffhanger', 2.0], [\"Schindler's List\", 4.0], ['Leaving Las Vegas', 4.0], ['Space Jam', 4.0], ['Fifth Element, The', 4.0], ['Coneheads', 3.0], ['Hudsucker Proxy, The', 3.0], ['Cold Comfort Farm', 4.0], ['Nixon', 3.0], ['Welcome to the Dollhouse', 4.0], ['Trainspotting', 4.0], [\"Muriel's Wedding\", 4.0], ['Short Cuts', 4.0], ['Crumb', 4.0], ['Kalifornia', 3.0], ['Like Water for Chocolate (Como agua para chocolate)', 4.0], ['Six Degrees of Separation', 4.0], ['Smoke', 3.0], ['Boxing Helena', 2.0], ['Alphaville (Alphaville, une \\xc3\\xa9trange aventure de Lemmy Caution)', 5.0], ['Palookaville', 4.0]]\n"
     ]
    }
   ],
   "source": [
    "ret = m2v_rs_ml20.recommend_movies(100)\n",
    "print('추천영화\\n', ret['recommended'])\n",
    "print('**********************************')\n",
    "print('별점 매긴영화\\n', ret['ratings'])"
   ]
  },
  {
   "cell_type": "code",
   "execution_count": null,
   "metadata": {
    "collapsed": true
   },
   "outputs": [],
   "source": []
  }
 ],
 "metadata": {
  "kernelspec": {
   "display_name": "Python 2",
   "language": "python",
   "name": "python2"
  },
  "language_info": {
   "name": "python",
   "version": "2.7.9"
  }
 },
 "nbformat": 4,
 "nbformat_minor": 0
}
