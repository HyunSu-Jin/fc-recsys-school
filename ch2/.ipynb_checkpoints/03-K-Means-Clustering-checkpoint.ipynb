{
 "cells": [
  {
   "cell_type": "markdown",
   "metadata": {},
   "source": [
    "## 유사한 얼굴끼리 군집화 하기 \n",
    "1. 얼굴 Feature Vector 값 로드 \n",
    "2. 군집화 수 K결정 → \n",
    "$$ K \\approx  \\sqrt{\\frac{N}{2}} $$\n",
    "3. K-Means로 군집화\n",
    "4. 군집화 결과 보기 \n",
    "5. Centroid와 가장 유사한 얼굴 찾아 보기  : 중심 얼굴\n",
    "6. K의 값을 변경해 가면 적절한 값을 찾기 "
   ]
  },
  {
   "cell_type": "code",
   "execution_count": 1,
   "metadata": {
    "collapsed": false
   },
   "outputs": [
    {
     "data": {
      "text/html": [
       "<div style=\"max-height:1000px;max-width:1500px;overflow:auto;\">\n",
       "<table border=\"1\" class=\"dataframe\">\n",
       "  <thead>\n",
       "    <tr style=\"text-align: right;\">\n",
       "      <th></th>\n",
       "      <th>eye_to_eye</th>\n",
       "      <th>eye_width</th>\n",
       "      <th>lip_to_chin</th>\n",
       "      <th>face_width</th>\n",
       "      <th>eyebrow_width</th>\n",
       "      <th>face_height</th>\n",
       "      <th>nose_width</th>\n",
       "      <th>mouth_width</th>\n",
       "      <th>lip_to_nose</th>\n",
       "    </tr>\n",
       "  </thead>\n",
       "  <tbody>\n",
       "    <tr>\n",
       "      <th>GyuseungKyeong:1</th>\n",
       "      <td> 0.60659</td>\n",
       "      <td> 0.84433</td>\n",
       "      <td> 0.17473</td>\n",
       "      <td> 0.31497</td>\n",
       "      <td> 0.05844</td>\n",
       "      <td> 1</td>\n",
       "      <td> 0.37294</td>\n",
       "      <td> 0.43512</td>\n",
       "      <td> 0.17407</td>\n",
       "    </tr>\n",
       "    <tr>\n",
       "      <th>GyuseungKyeong:2</th>\n",
       "      <td> 0.67471</td>\n",
       "      <td> 0.95712</td>\n",
       "      <td> 0.19845</td>\n",
       "      <td> 0.36870</td>\n",
       "      <td> 0.06168</td>\n",
       "      <td> 1</td>\n",
       "      <td> 0.44941</td>\n",
       "      <td> 0.53248</td>\n",
       "      <td> 0.16256</td>\n",
       "    </tr>\n",
       "    <tr>\n",
       "      <th>GyuseungKyeong:3</th>\n",
       "      <td> 0.54750</td>\n",
       "      <td> 0.77295</td>\n",
       "      <td> 0.20055</td>\n",
       "      <td> 0.28634</td>\n",
       "      <td> 0.05422</td>\n",
       "      <td> 1</td>\n",
       "      <td> 0.36095</td>\n",
       "      <td> 0.45304</td>\n",
       "      <td> 0.18315</td>\n",
       "    </tr>\n",
       "    <tr>\n",
       "      <th>daesung:1</th>\n",
       "      <td> 0.45481</td>\n",
       "      <td> 0.65348</td>\n",
       "      <td> 0.23623</td>\n",
       "      <td> 0.25962</td>\n",
       "      <td> 0.06647</td>\n",
       "      <td> 1</td>\n",
       "      <td> 0.26249</td>\n",
       "      <td> 0.38874</td>\n",
       "      <td> 0.16433</td>\n",
       "    </tr>\n",
       "    <tr>\n",
       "      <th>daesung:2</th>\n",
       "      <td> 0.62668</td>\n",
       "      <td> 0.90932</td>\n",
       "      <td> 0.23493</td>\n",
       "      <td> 0.36580</td>\n",
       "      <td> 0.06625</td>\n",
       "      <td> 1</td>\n",
       "      <td> 0.38984</td>\n",
       "      <td> 0.51079</td>\n",
       "      <td> 0.17026</td>\n",
       "    </tr>\n",
       "  </tbody>\n",
       "</table>\n",
       "</div>"
      ],
      "text/plain": [
       "                  eye_to_eye  eye_width  lip_to_chin  face_width  \\\n",
       "GyuseungKyeong:1     0.60659    0.84433      0.17473     0.31497   \n",
       "GyuseungKyeong:2     0.67471    0.95712      0.19845     0.36870   \n",
       "GyuseungKyeong:3     0.54750    0.77295      0.20055     0.28634   \n",
       "daesung:1            0.45481    0.65348      0.23623     0.25962   \n",
       "daesung:2            0.62668    0.90932      0.23493     0.36580   \n",
       "\n",
       "                  eyebrow_width  face_height  nose_width  mouth_width  \\\n",
       "GyuseungKyeong:1        0.05844            1     0.37294      0.43512   \n",
       "GyuseungKyeong:2        0.06168            1     0.44941      0.53248   \n",
       "GyuseungKyeong:3        0.05422            1     0.36095      0.45304   \n",
       "daesung:1               0.06647            1     0.26249      0.38874   \n",
       "daesung:2               0.06625            1     0.38984      0.51079   \n",
       "\n",
       "                  lip_to_nose  \n",
       "GyuseungKyeong:1      0.17407  \n",
       "GyuseungKyeong:2      0.16256  \n",
       "GyuseungKyeong:3      0.18315  \n",
       "daesung:1             0.16433  \n",
       "daesung:2             0.17026  "
      ]
     },
     "execution_count": 1,
     "metadata": {},
     "output_type": "execute_result"
    }
   ],
   "source": [
    "## 1. 얼굴 Feature Vector 값 로드 \n",
    "\n",
    "import pandas as pd \n",
    "%matplotlib inline\n",
    "landmark_ds = pd.DataFrame.from_csv('/Users/goodvc/data/fc-recsys-school/ch2/resource/landmark.csv')\n",
    "landmark_ds.head()"
   ]
  },
  {
   "cell_type": "markdown",
   "metadata": {},
   "source": [
    "---\n",
    "## K-Means로 클러스터링하기"
   ]
  },
  {
   "cell_type": "markdown",
   "metadata": {},
   "source": [
    "* 군집화 수 결정\n",
    "$$ K \\approx  \\sqrt{\\frac{N}{2}} $$\n"
   ]
  },
  {
   "cell_type": "code",
   "execution_count": 2,
   "metadata": {
    "collapsed": false
   },
   "outputs": [
    {
     "name": "stdout",
     "output_type": "stream",
     "text": [
      "('K=', 4.0)\n"
     ]
    }
   ],
   "source": [
    "## 2. 군집화 수 K결정 sqrt(N/2)\n",
    "import numpy as np\n",
    "import math\n",
    "\n",
    "K = math.ceil(np.sqrt(landmark_ds.count()[0]/2))\n",
    "print (\"K=\", K)\n"
   ]
  },
  {
   "cell_type": "code",
   "execution_count": 3,
   "metadata": {
    "collapsed": false
   },
   "outputs": [
    {
     "data": {
      "text/plain": [
       "KMeans(copy_x=True, init='k-means++', max_iter=300, n_clusters=6, n_init=10,\n",
       "    n_jobs=1, precompute_distances=True, random_state=None, tol=0.0001,\n",
       "    verbose=0)"
      ]
     },
     "execution_count": 3,
     "metadata": {},
     "output_type": "execute_result"
    }
   ],
   "source": [
    "from sklearn.cluster import KMeans\n",
    "X = landmark_ds.values\n",
    "cluster = KMeans(n_clusters=6)\n",
    "cluster.fit(X)"
   ]
  },
  {
   "cell_type": "code",
   "execution_count": 4,
   "metadata": {
    "collapsed": false
   },
   "outputs": [
    {
     "data": {
      "text/plain": [
       "array([2, 0, 2, 1, 2, 3, 1, 1, 2, 2, 0, 0, 5, 5, 1, 2, 2, 1, 4, 2, 5, 1, 1,\n",
       "       5], dtype=int32)"
      ]
     },
     "execution_count": 4,
     "metadata": {},
     "output_type": "execute_result"
    }
   ],
   "source": [
    "cluster.labels_"
   ]
  },
  {
   "cell_type": "code",
   "execution_count": 5,
   "metadata": {
    "collapsed": false
   },
   "outputs": [
    {
     "data": {
      "text/plain": [
       "{0: ['GyuseungKyeong:2', 'jppark:2', 'jppark:3'],\n",
       " 1: ['daesung:1',\n",
       "  'eunjeeshin:1',\n",
       "  'eunjeeshin:2',\n",
       "  'kimsoohyun:3',\n",
       "  'kimtaeyoun:3',\n",
       "  'wonbin:1',\n",
       "  'wonbin:2'],\n",
       " 2: ['GyuseungKyeong:1',\n",
       "  'GyuseungKyeong:3',\n",
       "  'daesung:2',\n",
       "  'eunjeeshin:3',\n",
       "  'gayeong:1',\n",
       "  'kimtaeyoun:1',\n",
       "  'kimtaeyoun:2',\n",
       "  'namyoung:2'],\n",
       " 3: ['daesung:3'],\n",
       " 4: ['namyoung:1'],\n",
       " 5: ['kimsoohyun:1', 'kimsoohyun:2', 'namyoung:3', 'wonbin:3']}"
      ]
     },
     "execution_count": 5,
     "metadata": {},
     "output_type": "execute_result"
    }
   ],
   "source": [
    "## cluster 결과 \n",
    "clustered = pd.DataFrame( [[a,b] for a,b in zip(landmark_ds.index, cluster.labels_)], \\\n",
    "                         columns=['name','group-id'], \\\n",
    "                         index=landmark_ds.index )\n",
    "clustered.groupby(['group-id']).groups"
   ]
  },
  {
   "cell_type": "code",
   "execution_count": 6,
   "metadata": {
    "collapsed": false
   },
   "outputs": [
    {
     "data": {
      "text/plain": [
       "array([[ 0.71671   ,  1.02391   ,  0.19522667,  0.37629333,  0.05858333,\n",
       "         1.        ,  0.42389333,  0.51749333,  0.17524333],\n",
       "       [ 0.45046429,  0.63893286,  0.21942143,  0.25082571,  0.05765   ,\n",
       "         1.        ,  0.28261143,  0.37167857,  0.16979429],\n",
       "       [ 0.5890825 ,  0.84208125,  0.223235  ,  0.33364125,  0.055485  ,\n",
       "         1.        ,  0.36822625,  0.47832375,  0.1996075 ],\n",
       "       [ 0.96575   ,  1.40069   ,  0.20799   ,  0.48755   ,  0.05828   ,\n",
       "         1.        ,  0.63143   ,  0.7917    ,  0.21791   ],\n",
       "       [ 0.19959   ,  0.28174   ,  0.26642   ,  0.10167   ,  0.061     ,\n",
       "         1.        ,  0.10865   ,  0.13624   ,  0.20234   ],\n",
       "       [ 0.3016975 ,  0.4215875 ,  0.2671725 ,  0.1659375 ,  0.05856   ,\n",
       "         1.        ,  0.1806625 ,  0.22376   ,  0.205465  ]])"
      ]
     },
     "execution_count": 6,
     "metadata": {},
     "output_type": "execute_result"
    }
   ],
   "source": [
    "cluster.cluster_centers_"
   ]
  },
  {
   "cell_type": "markdown",
   "metadata": {},
   "source": [
    "## 군집화의 적정성 평가  ( 주관적 평가)\n",
    "* 동일한 사람이 동일한 클러스터 많이 묶일수록 군집화가 적정하다. \n",
    "* 클러스터의 평균 이름수가 작을 수록 군집화가 적절하다고 판단"
   ]
  },
  {
   "cell_type": "code",
   "execution_count": 7,
   "metadata": {
    "collapsed": false
   },
   "outputs": [
    {
     "data": {
      "text/plain": [
       "<matplotlib.axes._subplots.AxesSubplot at 0x1098bbe10>"
      ]
     },
     "execution_count": 7,
     "metadata": {},
     "output_type": "execute_result"
    },
    {
     "data": {
      "image/png": "[encoded data removed]",
      "text/plain": [
       "<matplotlib.figure.Figure at 0x1098bb7d0>"
      ]
     },
     "metadata": {},
     "output_type": "display_data"
    }
   ],
   "source": [
    "clustered['name_only'] = clustered['name'].apply(lambda x: x.split(':')[0])\n",
    "clustered.groupby('group-id').name_only.nunique().plot(kind='bar')\n"
   ]
  },
  {
   "cell_type": "code",
   "execution_count": 8,
   "metadata": {
    "collapsed": false
   },
   "outputs": [
    {
     "data": {
      "text/plain": [
       "3.0"
      ]
     },
     "execution_count": 8,
     "metadata": {},
     "output_type": "execute_result"
    }
   ],
   "source": [
    "clustered.groupby('group-id').name_only.nunique().mean()"
   ]
  },
  {
   "cell_type": "code",
   "execution_count": 9,
   "metadata": {
    "collapsed": false
   },
   "outputs": [
    {
     "data": {
      "text/html": [
       "<div style=\"max-height:1000px;max-width:1500px;overflow:auto;\">\n",
       "<table border=\"1\" class=\"dataframe\">\n",
       "  <thead>\n",
       "    <tr style=\"text-align: right;\">\n",
       "      <th></th>\n",
       "      <th>name</th>\n",
       "      <th>group-id</th>\n",
       "      <th>name_only</th>\n",
       "    </tr>\n",
       "  </thead>\n",
       "  <tbody>\n",
       "    <tr>\n",
       "      <th>jppark:3</th>\n",
       "      <td>         jppark:3</td>\n",
       "      <td> 0</td>\n",
       "      <td>         jppark</td>\n",
       "    </tr>\n",
       "    <tr>\n",
       "      <th>GyuseungKyeong:2</th>\n",
       "      <td> GyuseungKyeong:2</td>\n",
       "      <td> 0</td>\n",
       "      <td> GyuseungKyeong</td>\n",
       "    </tr>\n",
       "    <tr>\n",
       "      <th>jppark:2</th>\n",
       "      <td>         jppark:2</td>\n",
       "      <td> 0</td>\n",
       "      <td>         jppark</td>\n",
       "    </tr>\n",
       "    <tr>\n",
       "      <th>wonbin:1</th>\n",
       "      <td>         wonbin:1</td>\n",
       "      <td> 1</td>\n",
       "      <td>         wonbin</td>\n",
       "    </tr>\n",
       "    <tr>\n",
       "      <th>daesung:1</th>\n",
       "      <td>        daesung:1</td>\n",
       "      <td> 1</td>\n",
       "      <td>        daesung</td>\n",
       "    </tr>\n",
       "    <tr>\n",
       "      <th>kimtaeyoun:3</th>\n",
       "      <td>     kimtaeyoun:3</td>\n",
       "      <td> 1</td>\n",
       "      <td>     kimtaeyoun</td>\n",
       "    </tr>\n",
       "    <tr>\n",
       "      <th>eunjeeshin:1</th>\n",
       "      <td>     eunjeeshin:1</td>\n",
       "      <td> 1</td>\n",
       "      <td>     eunjeeshin</td>\n",
       "    </tr>\n",
       "    <tr>\n",
       "      <th>eunjeeshin:2</th>\n",
       "      <td>     eunjeeshin:2</td>\n",
       "      <td> 1</td>\n",
       "      <td>     eunjeeshin</td>\n",
       "    </tr>\n",
       "    <tr>\n",
       "      <th>wonbin:2</th>\n",
       "      <td>         wonbin:2</td>\n",
       "      <td> 1</td>\n",
       "      <td>         wonbin</td>\n",
       "    </tr>\n",
       "    <tr>\n",
       "      <th>kimsoohyun:3</th>\n",
       "      <td>     kimsoohyun:3</td>\n",
       "      <td> 1</td>\n",
       "      <td>     kimsoohyun</td>\n",
       "    </tr>\n",
       "    <tr>\n",
       "      <th>namyoung:2</th>\n",
       "      <td>       namyoung:2</td>\n",
       "      <td> 2</td>\n",
       "      <td>       namyoung</td>\n",
       "    </tr>\n",
       "    <tr>\n",
       "      <th>kimtaeyoun:2</th>\n",
       "      <td>     kimtaeyoun:2</td>\n",
       "      <td> 2</td>\n",
       "      <td>     kimtaeyoun</td>\n",
       "    </tr>\n",
       "    <tr>\n",
       "      <th>kimtaeyoun:1</th>\n",
       "      <td>     kimtaeyoun:1</td>\n",
       "      <td> 2</td>\n",
       "      <td>     kimtaeyoun</td>\n",
       "    </tr>\n",
       "    <tr>\n",
       "      <th>GyuseungKyeong:1</th>\n",
       "      <td> GyuseungKyeong:1</td>\n",
       "      <td> 2</td>\n",
       "      <td> GyuseungKyeong</td>\n",
       "    </tr>\n",
       "    <tr>\n",
       "      <th>gayeong:1</th>\n",
       "      <td>        gayeong:1</td>\n",
       "      <td> 2</td>\n",
       "      <td>        gayeong</td>\n",
       "    </tr>\n",
       "    <tr>\n",
       "      <th>eunjeeshin:3</th>\n",
       "      <td>     eunjeeshin:3</td>\n",
       "      <td> 2</td>\n",
       "      <td>     eunjeeshin</td>\n",
       "    </tr>\n",
       "    <tr>\n",
       "      <th>daesung:2</th>\n",
       "      <td>        daesung:2</td>\n",
       "      <td> 2</td>\n",
       "      <td>        daesung</td>\n",
       "    </tr>\n",
       "    <tr>\n",
       "      <th>GyuseungKyeong:3</th>\n",
       "      <td> GyuseungKyeong:3</td>\n",
       "      <td> 2</td>\n",
       "      <td> GyuseungKyeong</td>\n",
       "    </tr>\n",
       "    <tr>\n",
       "      <th>daesung:3</th>\n",
       "      <td>        daesung:3</td>\n",
       "      <td> 3</td>\n",
       "      <td>        daesung</td>\n",
       "    </tr>\n",
       "    <tr>\n",
       "      <th>namyoung:1</th>\n",
       "      <td>       namyoung:1</td>\n",
       "      <td> 4</td>\n",
       "      <td>       namyoung</td>\n",
       "    </tr>\n",
       "    <tr>\n",
       "      <th>kimsoohyun:1</th>\n",
       "      <td>     kimsoohyun:1</td>\n",
       "      <td> 5</td>\n",
       "      <td>     kimsoohyun</td>\n",
       "    </tr>\n",
       "    <tr>\n",
       "      <th>namyoung:3</th>\n",
       "      <td>       namyoung:3</td>\n",
       "      <td> 5</td>\n",
       "      <td>       namyoung</td>\n",
       "    </tr>\n",
       "    <tr>\n",
       "      <th>kimsoohyun:2</th>\n",
       "      <td>     kimsoohyun:2</td>\n",
       "      <td> 5</td>\n",
       "      <td>     kimsoohyun</td>\n",
       "    </tr>\n",
       "    <tr>\n",
       "      <th>wonbin:3</th>\n",
       "      <td>         wonbin:3</td>\n",
       "      <td> 5</td>\n",
       "      <td>         wonbin</td>\n",
       "    </tr>\n",
       "  </tbody>\n",
       "</table>\n",
       "</div>"
      ],
      "text/plain": [
       "                              name  group-id       name_only\n",
       "jppark:3                  jppark:3         0          jppark\n",
       "GyuseungKyeong:2  GyuseungKyeong:2         0  GyuseungKyeong\n",
       "jppark:2                  jppark:2         0          jppark\n",
       "wonbin:1                  wonbin:1         1          wonbin\n",
       "daesung:1                daesung:1         1         daesung\n",
       "kimtaeyoun:3          kimtaeyoun:3         1      kimtaeyoun\n",
       "eunjeeshin:1          eunjeeshin:1         1      eunjeeshin\n",
       "eunjeeshin:2          eunjeeshin:2         1      eunjeeshin\n",
       "wonbin:2                  wonbin:2         1          wonbin\n",
       "kimsoohyun:3          kimsoohyun:3         1      kimsoohyun\n",
       "namyoung:2              namyoung:2         2        namyoung\n",
       "kimtaeyoun:2          kimtaeyoun:2         2      kimtaeyoun\n",
       "kimtaeyoun:1          kimtaeyoun:1         2      kimtaeyoun\n",
       "GyuseungKyeong:1  GyuseungKyeong:1         2  GyuseungKyeong\n",
       "gayeong:1                gayeong:1         2         gayeong\n",
       "eunjeeshin:3          eunjeeshin:3         2      eunjeeshin\n",
       "daesung:2                daesung:2         2         daesung\n",
       "GyuseungKyeong:3  GyuseungKyeong:3         2  GyuseungKyeong\n",
       "daesung:3                daesung:3         3         daesung\n",
       "namyoung:1              namyoung:1         4        namyoung\n",
       "kimsoohyun:1          kimsoohyun:1         5      kimsoohyun\n",
       "namyoung:3              namyoung:3         5        namyoung\n",
       "kimsoohyun:2          kimsoohyun:2         5      kimsoohyun\n",
       "wonbin:3                  wonbin:3         5          wonbin"
      ]
     },
     "execution_count": 9,
     "metadata": {},
     "output_type": "execute_result"
    }
   ],
   "source": [
    "clustered.sort(['group-id'])"
   ]
  },
  {
   "cell_type": "markdown",
   "metadata": {},
   "source": [
    "---\n",
    "## Hierarchical Clustering으로 군집화 하기 "
   ]
  },
  {
   "cell_type": "code",
   "execution_count": 10,
   "metadata": {
    "collapsed": false
   },
   "outputs": [
    {
     "data": {
      "text/plain": [
       "AgglomerativeClustering(affinity='euclidean', compute_full_tree='auto',\n",
       "            connectivity=None, linkage='ward',\n",
       "            memory=Memory(cachedir=None), n_clusters=6, n_components=None,\n",
       "            pooling_func=<function mean at 0x1049a9c08>)"
      ]
     },
     "execution_count": 10,
     "metadata": {},
     "output_type": "execute_result"
    }
   ],
   "source": [
    "from sklearn.cluster import AgglomerativeClustering\n",
    "X = landmark_ds.values\n",
    "cluster = AgglomerativeClustering(n_clusters=6,affinity='euclidean',linkage='ward')\n",
    "cluster.fit(X)"
   ]
  },
  {
   "cell_type": "code",
   "execution_count": 11,
   "metadata": {
    "collapsed": false
   },
   "outputs": [
    {
     "data": {
      "text/plain": [
       "{0: ['daesung:1',\n",
       "  'eunjeeshin:1',\n",
       "  'eunjeeshin:2',\n",
       "  'kimsoohyun:3',\n",
       "  'kimtaeyoun:3',\n",
       "  'wonbin:1',\n",
       "  'wonbin:2'],\n",
       " 1: ['kimsoohyun:1', 'kimsoohyun:2', 'namyoung:1', 'namyoung:3', 'wonbin:3'],\n",
       " 2: ['jppark:2', 'jppark:3'],\n",
       " 3: ['GyuseungKyeong:2', 'daesung:2', 'kimtaeyoun:1', 'kimtaeyoun:2'],\n",
       " 4: ['GyuseungKyeong:1',\n",
       "  'GyuseungKyeong:3',\n",
       "  'eunjeeshin:3',\n",
       "  'gayeong:1',\n",
       "  'namyoung:2'],\n",
       " 5: ['daesung:3']}"
      ]
     },
     "execution_count": 11,
     "metadata": {},
     "output_type": "execute_result"
    }
   ],
   "source": [
    "## cluster 결과 \n",
    "clustered = pd.DataFrame( [[a,b] for a,b in zip(landmark_ds.index, cluster.labels_)], \\\n",
    "                         columns=['name','group-id'], \\\n",
    "                         index=landmark_ds.index )\n",
    "clustered.groupby(['group-id']).groups"
   ]
  },
  {
   "cell_type": "code",
   "execution_count": 12,
   "metadata": {
    "collapsed": false,
    "scrolled": true
   },
   "outputs": [
    {
     "data": {
      "text/plain": [
       "2.8333333333333335"
      ]
     },
     "execution_count": 12,
     "metadata": {},
     "output_type": "execute_result"
    }
   ],
   "source": [
    "clustered['name_only'] = clustered['name'].apply(lambda x: x.split(':')[0])\n",
    "clustered.groupby('group-id').name_only.nunique().mean()"
   ]
  }
 ],
 "metadata": {
  "kernelspec": {
   "display_name": "Python 2",
   "language": "python",
   "name": "python2"
  },
  "language_info": {
   "name": "python",
   "version": "2.7.9"
  }
 },
 "nbformat": 4,
 "nbformat_minor": 0
}
